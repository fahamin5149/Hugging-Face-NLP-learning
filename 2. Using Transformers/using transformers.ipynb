{
  "nbformat": 4,
  "nbformat_minor": 0,
  "metadata": {
    "colab": {
      "provenance": []
    },
    "kernelspec": {
      "name": "python3",
      "display_name": "Python 3"
    },
    "language_info": {
      "name": "python"
    },
    "widgets": {
      "application/vnd.jupyter.widget-state+json": {
        "6622edca8f4440df828bb89b5af39d4e": {
          "model_module": "@jupyter-widgets/controls",
          "model_name": "HBoxModel",
          "model_module_version": "1.5.0",
          "state": {
            "_dom_classes": [],
            "_model_module": "@jupyter-widgets/controls",
            "_model_module_version": "1.5.0",
            "_model_name": "HBoxModel",
            "_view_count": null,
            "_view_module": "@jupyter-widgets/controls",
            "_view_module_version": "1.5.0",
            "_view_name": "HBoxView",
            "box_style": "",
            "children": [
              "IPY_MODEL_ece6cf65ff24494e95ba32fd1fa5b179",
              "IPY_MODEL_a720d70daa7845bcb50a591261a151b7",
              "IPY_MODEL_995c1774c8244a0f9dc543b0bb82cb08"
            ],
            "layout": "IPY_MODEL_af501f06edd14ac79a85e1de534f5799"
          }
        },
        "ece6cf65ff24494e95ba32fd1fa5b179": {
          "model_module": "@jupyter-widgets/controls",
          "model_name": "HTMLModel",
          "model_module_version": "1.5.0",
          "state": {
            "_dom_classes": [],
            "_model_module": "@jupyter-widgets/controls",
            "_model_module_version": "1.5.0",
            "_model_name": "HTMLModel",
            "_view_count": null,
            "_view_module": "@jupyter-widgets/controls",
            "_view_module_version": "1.5.0",
            "_view_name": "HTMLView",
            "description": "",
            "description_tooltip": null,
            "layout": "IPY_MODEL_4002a88be4b7419c8ebd9db6d0ed84bf",
            "placeholder": "​",
            "style": "IPY_MODEL_03e629f359be4327b12e339873013841",
            "value": "config.json: 100%"
          }
        },
        "a720d70daa7845bcb50a591261a151b7": {
          "model_module": "@jupyter-widgets/controls",
          "model_name": "FloatProgressModel",
          "model_module_version": "1.5.0",
          "state": {
            "_dom_classes": [],
            "_model_module": "@jupyter-widgets/controls",
            "_model_module_version": "1.5.0",
            "_model_name": "FloatProgressModel",
            "_view_count": null,
            "_view_module": "@jupyter-widgets/controls",
            "_view_module_version": "1.5.0",
            "_view_name": "ProgressView",
            "bar_style": "success",
            "description": "",
            "description_tooltip": null,
            "layout": "IPY_MODEL_1d3b09b3a81c4819846f8a530e91f068",
            "max": 629,
            "min": 0,
            "orientation": "horizontal",
            "style": "IPY_MODEL_71cead01caaa4eaca2bbfa80c5b90797",
            "value": 629
          }
        },
        "995c1774c8244a0f9dc543b0bb82cb08": {
          "model_module": "@jupyter-widgets/controls",
          "model_name": "HTMLModel",
          "model_module_version": "1.5.0",
          "state": {
            "_dom_classes": [],
            "_model_module": "@jupyter-widgets/controls",
            "_model_module_version": "1.5.0",
            "_model_name": "HTMLModel",
            "_view_count": null,
            "_view_module": "@jupyter-widgets/controls",
            "_view_module_version": "1.5.0",
            "_view_name": "HTMLView",
            "description": "",
            "description_tooltip": null,
            "layout": "IPY_MODEL_835ae6842f3d462e8cbd082f8ee5ebdc",
            "placeholder": "​",
            "style": "IPY_MODEL_645e59be8c4f4127b41f02988da41963",
            "value": " 629/629 [00:00&lt;00:00, 51.6kB/s]"
          }
        },
        "af501f06edd14ac79a85e1de534f5799": {
          "model_module": "@jupyter-widgets/base",
          "model_name": "LayoutModel",
          "model_module_version": "1.2.0",
          "state": {
            "_model_module": "@jupyter-widgets/base",
            "_model_module_version": "1.2.0",
            "_model_name": "LayoutModel",
            "_view_count": null,
            "_view_module": "@jupyter-widgets/base",
            "_view_module_version": "1.2.0",
            "_view_name": "LayoutView",
            "align_content": null,
            "align_items": null,
            "align_self": null,
            "border": null,
            "bottom": null,
            "display": null,
            "flex": null,
            "flex_flow": null,
            "grid_area": null,
            "grid_auto_columns": null,
            "grid_auto_flow": null,
            "grid_auto_rows": null,
            "grid_column": null,
            "grid_gap": null,
            "grid_row": null,
            "grid_template_areas": null,
            "grid_template_columns": null,
            "grid_template_rows": null,
            "height": null,
            "justify_content": null,
            "justify_items": null,
            "left": null,
            "margin": null,
            "max_height": null,
            "max_width": null,
            "min_height": null,
            "min_width": null,
            "object_fit": null,
            "object_position": null,
            "order": null,
            "overflow": null,
            "overflow_x": null,
            "overflow_y": null,
            "padding": null,
            "right": null,
            "top": null,
            "visibility": null,
            "width": null
          }
        },
        "4002a88be4b7419c8ebd9db6d0ed84bf": {
          "model_module": "@jupyter-widgets/base",
          "model_name": "LayoutModel",
          "model_module_version": "1.2.0",
          "state": {
            "_model_module": "@jupyter-widgets/base",
            "_model_module_version": "1.2.0",
            "_model_name": "LayoutModel",
            "_view_count": null,
            "_view_module": "@jupyter-widgets/base",
            "_view_module_version": "1.2.0",
            "_view_name": "LayoutView",
            "align_content": null,
            "align_items": null,
            "align_self": null,
            "border": null,
            "bottom": null,
            "display": null,
            "flex": null,
            "flex_flow": null,
            "grid_area": null,
            "grid_auto_columns": null,
            "grid_auto_flow": null,
            "grid_auto_rows": null,
            "grid_column": null,
            "grid_gap": null,
            "grid_row": null,
            "grid_template_areas": null,
            "grid_template_columns": null,
            "grid_template_rows": null,
            "height": null,
            "justify_content": null,
            "justify_items": null,
            "left": null,
            "margin": null,
            "max_height": null,
            "max_width": null,
            "min_height": null,
            "min_width": null,
            "object_fit": null,
            "object_position": null,
            "order": null,
            "overflow": null,
            "overflow_x": null,
            "overflow_y": null,
            "padding": null,
            "right": null,
            "top": null,
            "visibility": null,
            "width": null
          }
        },
        "03e629f359be4327b12e339873013841": {
          "model_module": "@jupyter-widgets/controls",
          "model_name": "DescriptionStyleModel",
          "model_module_version": "1.5.0",
          "state": {
            "_model_module": "@jupyter-widgets/controls",
            "_model_module_version": "1.5.0",
            "_model_name": "DescriptionStyleModel",
            "_view_count": null,
            "_view_module": "@jupyter-widgets/base",
            "_view_module_version": "1.2.0",
            "_view_name": "StyleView",
            "description_width": ""
          }
        },
        "1d3b09b3a81c4819846f8a530e91f068": {
          "model_module": "@jupyter-widgets/base",
          "model_name": "LayoutModel",
          "model_module_version": "1.2.0",
          "state": {
            "_model_module": "@jupyter-widgets/base",
            "_model_module_version": "1.2.0",
            "_model_name": "LayoutModel",
            "_view_count": null,
            "_view_module": "@jupyter-widgets/base",
            "_view_module_version": "1.2.0",
            "_view_name": "LayoutView",
            "align_content": null,
            "align_items": null,
            "align_self": null,
            "border": null,
            "bottom": null,
            "display": null,
            "flex": null,
            "flex_flow": null,
            "grid_area": null,
            "grid_auto_columns": null,
            "grid_auto_flow": null,
            "grid_auto_rows": null,
            "grid_column": null,
            "grid_gap": null,
            "grid_row": null,
            "grid_template_areas": null,
            "grid_template_columns": null,
            "grid_template_rows": null,
            "height": null,
            "justify_content": null,
            "justify_items": null,
            "left": null,
            "margin": null,
            "max_height": null,
            "max_width": null,
            "min_height": null,
            "min_width": null,
            "object_fit": null,
            "object_position": null,
            "order": null,
            "overflow": null,
            "overflow_x": null,
            "overflow_y": null,
            "padding": null,
            "right": null,
            "top": null,
            "visibility": null,
            "width": null
          }
        },
        "71cead01caaa4eaca2bbfa80c5b90797": {
          "model_module": "@jupyter-widgets/controls",
          "model_name": "ProgressStyleModel",
          "model_module_version": "1.5.0",
          "state": {
            "_model_module": "@jupyter-widgets/controls",
            "_model_module_version": "1.5.0",
            "_model_name": "ProgressStyleModel",
            "_view_count": null,
            "_view_module": "@jupyter-widgets/base",
            "_view_module_version": "1.2.0",
            "_view_name": "StyleView",
            "bar_color": null,
            "description_width": ""
          }
        },
        "835ae6842f3d462e8cbd082f8ee5ebdc": {
          "model_module": "@jupyter-widgets/base",
          "model_name": "LayoutModel",
          "model_module_version": "1.2.0",
          "state": {
            "_model_module": "@jupyter-widgets/base",
            "_model_module_version": "1.2.0",
            "_model_name": "LayoutModel",
            "_view_count": null,
            "_view_module": "@jupyter-widgets/base",
            "_view_module_version": "1.2.0",
            "_view_name": "LayoutView",
            "align_content": null,
            "align_items": null,
            "align_self": null,
            "border": null,
            "bottom": null,
            "display": null,
            "flex": null,
            "flex_flow": null,
            "grid_area": null,
            "grid_auto_columns": null,
            "grid_auto_flow": null,
            "grid_auto_rows": null,
            "grid_column": null,
            "grid_gap": null,
            "grid_row": null,
            "grid_template_areas": null,
            "grid_template_columns": null,
            "grid_template_rows": null,
            "height": null,
            "justify_content": null,
            "justify_items": null,
            "left": null,
            "margin": null,
            "max_height": null,
            "max_width": null,
            "min_height": null,
            "min_width": null,
            "object_fit": null,
            "object_position": null,
            "order": null,
            "overflow": null,
            "overflow_x": null,
            "overflow_y": null,
            "padding": null,
            "right": null,
            "top": null,
            "visibility": null,
            "width": null
          }
        },
        "645e59be8c4f4127b41f02988da41963": {
          "model_module": "@jupyter-widgets/controls",
          "model_name": "DescriptionStyleModel",
          "model_module_version": "1.5.0",
          "state": {
            "_model_module": "@jupyter-widgets/controls",
            "_model_module_version": "1.5.0",
            "_model_name": "DescriptionStyleModel",
            "_view_count": null,
            "_view_module": "@jupyter-widgets/base",
            "_view_module_version": "1.2.0",
            "_view_name": "StyleView",
            "description_width": ""
          }
        },
        "099aa3f4911c4a758a9d224c3c02e1ea": {
          "model_module": "@jupyter-widgets/controls",
          "model_name": "HBoxModel",
          "model_module_version": "1.5.0",
          "state": {
            "_dom_classes": [],
            "_model_module": "@jupyter-widgets/controls",
            "_model_module_version": "1.5.0",
            "_model_name": "HBoxModel",
            "_view_count": null,
            "_view_module": "@jupyter-widgets/controls",
            "_view_module_version": "1.5.0",
            "_view_name": "HBoxView",
            "box_style": "",
            "children": [
              "IPY_MODEL_8bc54f617b224adba668241f346610d3",
              "IPY_MODEL_a50247d389d24c2f9c1bc412b7eb4694",
              "IPY_MODEL_f103ff507e5f4e8cb30156af1155ccc8"
            ],
            "layout": "IPY_MODEL_6a79547a23c14dc08cf8a0bd0f4073ba"
          }
        },
        "8bc54f617b224adba668241f346610d3": {
          "model_module": "@jupyter-widgets/controls",
          "model_name": "HTMLModel",
          "model_module_version": "1.5.0",
          "state": {
            "_dom_classes": [],
            "_model_module": "@jupyter-widgets/controls",
            "_model_module_version": "1.5.0",
            "_model_name": "HTMLModel",
            "_view_count": null,
            "_view_module": "@jupyter-widgets/controls",
            "_view_module_version": "1.5.0",
            "_view_name": "HTMLView",
            "description": "",
            "description_tooltip": null,
            "layout": "IPY_MODEL_5d9d32dcdffb4229addd3113b0c4d450",
            "placeholder": "​",
            "style": "IPY_MODEL_05db665647f74a4c92731a3f7fb64db0",
            "value": "model.safetensors: 100%"
          }
        },
        "a50247d389d24c2f9c1bc412b7eb4694": {
          "model_module": "@jupyter-widgets/controls",
          "model_name": "FloatProgressModel",
          "model_module_version": "1.5.0",
          "state": {
            "_dom_classes": [],
            "_model_module": "@jupyter-widgets/controls",
            "_model_module_version": "1.5.0",
            "_model_name": "FloatProgressModel",
            "_view_count": null,
            "_view_module": "@jupyter-widgets/controls",
            "_view_module_version": "1.5.0",
            "_view_name": "ProgressView",
            "bar_style": "success",
            "description": "",
            "description_tooltip": null,
            "layout": "IPY_MODEL_8bfa5e1f9e6e45fa9a34c16dbd3a51a6",
            "max": 267832558,
            "min": 0,
            "orientation": "horizontal",
            "style": "IPY_MODEL_a5b2b8aa0b2d4369a27177d0d63278a4",
            "value": 267832558
          }
        },
        "f103ff507e5f4e8cb30156af1155ccc8": {
          "model_module": "@jupyter-widgets/controls",
          "model_name": "HTMLModel",
          "model_module_version": "1.5.0",
          "state": {
            "_dom_classes": [],
            "_model_module": "@jupyter-widgets/controls",
            "_model_module_version": "1.5.0",
            "_model_name": "HTMLModel",
            "_view_count": null,
            "_view_module": "@jupyter-widgets/controls",
            "_view_module_version": "1.5.0",
            "_view_name": "HTMLView",
            "description": "",
            "description_tooltip": null,
            "layout": "IPY_MODEL_6ff2661efe4e4709a3f6ed7e34728f74",
            "placeholder": "​",
            "style": "IPY_MODEL_34d7bcc575b64de8a414d68b0bdbdcf3",
            "value": " 268M/268M [00:01&lt;00:00, 182MB/s]"
          }
        },
        "6a79547a23c14dc08cf8a0bd0f4073ba": {
          "model_module": "@jupyter-widgets/base",
          "model_name": "LayoutModel",
          "model_module_version": "1.2.0",
          "state": {
            "_model_module": "@jupyter-widgets/base",
            "_model_module_version": "1.2.0",
            "_model_name": "LayoutModel",
            "_view_count": null,
            "_view_module": "@jupyter-widgets/base",
            "_view_module_version": "1.2.0",
            "_view_name": "LayoutView",
            "align_content": null,
            "align_items": null,
            "align_self": null,
            "border": null,
            "bottom": null,
            "display": null,
            "flex": null,
            "flex_flow": null,
            "grid_area": null,
            "grid_auto_columns": null,
            "grid_auto_flow": null,
            "grid_auto_rows": null,
            "grid_column": null,
            "grid_gap": null,
            "grid_row": null,
            "grid_template_areas": null,
            "grid_template_columns": null,
            "grid_template_rows": null,
            "height": null,
            "justify_content": null,
            "justify_items": null,
            "left": null,
            "margin": null,
            "max_height": null,
            "max_width": null,
            "min_height": null,
            "min_width": null,
            "object_fit": null,
            "object_position": null,
            "order": null,
            "overflow": null,
            "overflow_x": null,
            "overflow_y": null,
            "padding": null,
            "right": null,
            "top": null,
            "visibility": null,
            "width": null
          }
        },
        "5d9d32dcdffb4229addd3113b0c4d450": {
          "model_module": "@jupyter-widgets/base",
          "model_name": "LayoutModel",
          "model_module_version": "1.2.0",
          "state": {
            "_model_module": "@jupyter-widgets/base",
            "_model_module_version": "1.2.0",
            "_model_name": "LayoutModel",
            "_view_count": null,
            "_view_module": "@jupyter-widgets/base",
            "_view_module_version": "1.2.0",
            "_view_name": "LayoutView",
            "align_content": null,
            "align_items": null,
            "align_self": null,
            "border": null,
            "bottom": null,
            "display": null,
            "flex": null,
            "flex_flow": null,
            "grid_area": null,
            "grid_auto_columns": null,
            "grid_auto_flow": null,
            "grid_auto_rows": null,
            "grid_column": null,
            "grid_gap": null,
            "grid_row": null,
            "grid_template_areas": null,
            "grid_template_columns": null,
            "grid_template_rows": null,
            "height": null,
            "justify_content": null,
            "justify_items": null,
            "left": null,
            "margin": null,
            "max_height": null,
            "max_width": null,
            "min_height": null,
            "min_width": null,
            "object_fit": null,
            "object_position": null,
            "order": null,
            "overflow": null,
            "overflow_x": null,
            "overflow_y": null,
            "padding": null,
            "right": null,
            "top": null,
            "visibility": null,
            "width": null
          }
        },
        "05db665647f74a4c92731a3f7fb64db0": {
          "model_module": "@jupyter-widgets/controls",
          "model_name": "DescriptionStyleModel",
          "model_module_version": "1.5.0",
          "state": {
            "_model_module": "@jupyter-widgets/controls",
            "_model_module_version": "1.5.0",
            "_model_name": "DescriptionStyleModel",
            "_view_count": null,
            "_view_module": "@jupyter-widgets/base",
            "_view_module_version": "1.2.0",
            "_view_name": "StyleView",
            "description_width": ""
          }
        },
        "8bfa5e1f9e6e45fa9a34c16dbd3a51a6": {
          "model_module": "@jupyter-widgets/base",
          "model_name": "LayoutModel",
          "model_module_version": "1.2.0",
          "state": {
            "_model_module": "@jupyter-widgets/base",
            "_model_module_version": "1.2.0",
            "_model_name": "LayoutModel",
            "_view_count": null,
            "_view_module": "@jupyter-widgets/base",
            "_view_module_version": "1.2.0",
            "_view_name": "LayoutView",
            "align_content": null,
            "align_items": null,
            "align_self": null,
            "border": null,
            "bottom": null,
            "display": null,
            "flex": null,
            "flex_flow": null,
            "grid_area": null,
            "grid_auto_columns": null,
            "grid_auto_flow": null,
            "grid_auto_rows": null,
            "grid_column": null,
            "grid_gap": null,
            "grid_row": null,
            "grid_template_areas": null,
            "grid_template_columns": null,
            "grid_template_rows": null,
            "height": null,
            "justify_content": null,
            "justify_items": null,
            "left": null,
            "margin": null,
            "max_height": null,
            "max_width": null,
            "min_height": null,
            "min_width": null,
            "object_fit": null,
            "object_position": null,
            "order": null,
            "overflow": null,
            "overflow_x": null,
            "overflow_y": null,
            "padding": null,
            "right": null,
            "top": null,
            "visibility": null,
            "width": null
          }
        },
        "a5b2b8aa0b2d4369a27177d0d63278a4": {
          "model_module": "@jupyter-widgets/controls",
          "model_name": "ProgressStyleModel",
          "model_module_version": "1.5.0",
          "state": {
            "_model_module": "@jupyter-widgets/controls",
            "_model_module_version": "1.5.0",
            "_model_name": "ProgressStyleModel",
            "_view_count": null,
            "_view_module": "@jupyter-widgets/base",
            "_view_module_version": "1.2.0",
            "_view_name": "StyleView",
            "bar_color": null,
            "description_width": ""
          }
        },
        "6ff2661efe4e4709a3f6ed7e34728f74": {
          "model_module": "@jupyter-widgets/base",
          "model_name": "LayoutModel",
          "model_module_version": "1.2.0",
          "state": {
            "_model_module": "@jupyter-widgets/base",
            "_model_module_version": "1.2.0",
            "_model_name": "LayoutModel",
            "_view_count": null,
            "_view_module": "@jupyter-widgets/base",
            "_view_module_version": "1.2.0",
            "_view_name": "LayoutView",
            "align_content": null,
            "align_items": null,
            "align_self": null,
            "border": null,
            "bottom": null,
            "display": null,
            "flex": null,
            "flex_flow": null,
            "grid_area": null,
            "grid_auto_columns": null,
            "grid_auto_flow": null,
            "grid_auto_rows": null,
            "grid_column": null,
            "grid_gap": null,
            "grid_row": null,
            "grid_template_areas": null,
            "grid_template_columns": null,
            "grid_template_rows": null,
            "height": null,
            "justify_content": null,
            "justify_items": null,
            "left": null,
            "margin": null,
            "max_height": null,
            "max_width": null,
            "min_height": null,
            "min_width": null,
            "object_fit": null,
            "object_position": null,
            "order": null,
            "overflow": null,
            "overflow_x": null,
            "overflow_y": null,
            "padding": null,
            "right": null,
            "top": null,
            "visibility": null,
            "width": null
          }
        },
        "34d7bcc575b64de8a414d68b0bdbdcf3": {
          "model_module": "@jupyter-widgets/controls",
          "model_name": "DescriptionStyleModel",
          "model_module_version": "1.5.0",
          "state": {
            "_model_module": "@jupyter-widgets/controls",
            "_model_module_version": "1.5.0",
            "_model_name": "DescriptionStyleModel",
            "_view_count": null,
            "_view_module": "@jupyter-widgets/base",
            "_view_module_version": "1.2.0",
            "_view_name": "StyleView",
            "description_width": ""
          }
        },
        "3d253d3c22e745199b8236008cf5e0ce": {
          "model_module": "@jupyter-widgets/controls",
          "model_name": "HBoxModel",
          "model_module_version": "1.5.0",
          "state": {
            "_dom_classes": [],
            "_model_module": "@jupyter-widgets/controls",
            "_model_module_version": "1.5.0",
            "_model_name": "HBoxModel",
            "_view_count": null,
            "_view_module": "@jupyter-widgets/controls",
            "_view_module_version": "1.5.0",
            "_view_name": "HBoxView",
            "box_style": "",
            "children": [
              "IPY_MODEL_4b7dfd0ebea343d4a6bd3e19a8fee428",
              "IPY_MODEL_f25ad6cfde0d4af598c3c91443041bf6",
              "IPY_MODEL_fdb4fa6e88cc42d8817b5322b2e4918d"
            ],
            "layout": "IPY_MODEL_03730978aa764a0ca23bb32600b03399"
          }
        },
        "4b7dfd0ebea343d4a6bd3e19a8fee428": {
          "model_module": "@jupyter-widgets/controls",
          "model_name": "HTMLModel",
          "model_module_version": "1.5.0",
          "state": {
            "_dom_classes": [],
            "_model_module": "@jupyter-widgets/controls",
            "_model_module_version": "1.5.0",
            "_model_name": "HTMLModel",
            "_view_count": null,
            "_view_module": "@jupyter-widgets/controls",
            "_view_module_version": "1.5.0",
            "_view_name": "HTMLView",
            "description": "",
            "description_tooltip": null,
            "layout": "IPY_MODEL_a6c26b9c06ac406692920383a147154b",
            "placeholder": "​",
            "style": "IPY_MODEL_985346773f6e43619b238b0c1eb1cd90",
            "value": "tokenizer_config.json: 100%"
          }
        },
        "f25ad6cfde0d4af598c3c91443041bf6": {
          "model_module": "@jupyter-widgets/controls",
          "model_name": "FloatProgressModel",
          "model_module_version": "1.5.0",
          "state": {
            "_dom_classes": [],
            "_model_module": "@jupyter-widgets/controls",
            "_model_module_version": "1.5.0",
            "_model_name": "FloatProgressModel",
            "_view_count": null,
            "_view_module": "@jupyter-widgets/controls",
            "_view_module_version": "1.5.0",
            "_view_name": "ProgressView",
            "bar_style": "success",
            "description": "",
            "description_tooltip": null,
            "layout": "IPY_MODEL_fc613b6ba070478da4cc38e2696cb98b",
            "max": 48,
            "min": 0,
            "orientation": "horizontal",
            "style": "IPY_MODEL_19341f395ce646dcabd1d6ccfd616ec1",
            "value": 48
          }
        },
        "fdb4fa6e88cc42d8817b5322b2e4918d": {
          "model_module": "@jupyter-widgets/controls",
          "model_name": "HTMLModel",
          "model_module_version": "1.5.0",
          "state": {
            "_dom_classes": [],
            "_model_module": "@jupyter-widgets/controls",
            "_model_module_version": "1.5.0",
            "_model_name": "HTMLModel",
            "_view_count": null,
            "_view_module": "@jupyter-widgets/controls",
            "_view_module_version": "1.5.0",
            "_view_name": "HTMLView",
            "description": "",
            "description_tooltip": null,
            "layout": "IPY_MODEL_7b639c37c45b426c869aeff310441e00",
            "placeholder": "​",
            "style": "IPY_MODEL_33ca09d642734065977d55da59883dbd",
            "value": " 48.0/48.0 [00:00&lt;00:00, 3.87kB/s]"
          }
        },
        "03730978aa764a0ca23bb32600b03399": {
          "model_module": "@jupyter-widgets/base",
          "model_name": "LayoutModel",
          "model_module_version": "1.2.0",
          "state": {
            "_model_module": "@jupyter-widgets/base",
            "_model_module_version": "1.2.0",
            "_model_name": "LayoutModel",
            "_view_count": null,
            "_view_module": "@jupyter-widgets/base",
            "_view_module_version": "1.2.0",
            "_view_name": "LayoutView",
            "align_content": null,
            "align_items": null,
            "align_self": null,
            "border": null,
            "bottom": null,
            "display": null,
            "flex": null,
            "flex_flow": null,
            "grid_area": null,
            "grid_auto_columns": null,
            "grid_auto_flow": null,
            "grid_auto_rows": null,
            "grid_column": null,
            "grid_gap": null,
            "grid_row": null,
            "grid_template_areas": null,
            "grid_template_columns": null,
            "grid_template_rows": null,
            "height": null,
            "justify_content": null,
            "justify_items": null,
            "left": null,
            "margin": null,
            "max_height": null,
            "max_width": null,
            "min_height": null,
            "min_width": null,
            "object_fit": null,
            "object_position": null,
            "order": null,
            "overflow": null,
            "overflow_x": null,
            "overflow_y": null,
            "padding": null,
            "right": null,
            "top": null,
            "visibility": null,
            "width": null
          }
        },
        "a6c26b9c06ac406692920383a147154b": {
          "model_module": "@jupyter-widgets/base",
          "model_name": "LayoutModel",
          "model_module_version": "1.2.0",
          "state": {
            "_model_module": "@jupyter-widgets/base",
            "_model_module_version": "1.2.0",
            "_model_name": "LayoutModel",
            "_view_count": null,
            "_view_module": "@jupyter-widgets/base",
            "_view_module_version": "1.2.0",
            "_view_name": "LayoutView",
            "align_content": null,
            "align_items": null,
            "align_self": null,
            "border": null,
            "bottom": null,
            "display": null,
            "flex": null,
            "flex_flow": null,
            "grid_area": null,
            "grid_auto_columns": null,
            "grid_auto_flow": null,
            "grid_auto_rows": null,
            "grid_column": null,
            "grid_gap": null,
            "grid_row": null,
            "grid_template_areas": null,
            "grid_template_columns": null,
            "grid_template_rows": null,
            "height": null,
            "justify_content": null,
            "justify_items": null,
            "left": null,
            "margin": null,
            "max_height": null,
            "max_width": null,
            "min_height": null,
            "min_width": null,
            "object_fit": null,
            "object_position": null,
            "order": null,
            "overflow": null,
            "overflow_x": null,
            "overflow_y": null,
            "padding": null,
            "right": null,
            "top": null,
            "visibility": null,
            "width": null
          }
        },
        "985346773f6e43619b238b0c1eb1cd90": {
          "model_module": "@jupyter-widgets/controls",
          "model_name": "DescriptionStyleModel",
          "model_module_version": "1.5.0",
          "state": {
            "_model_module": "@jupyter-widgets/controls",
            "_model_module_version": "1.5.0",
            "_model_name": "DescriptionStyleModel",
            "_view_count": null,
            "_view_module": "@jupyter-widgets/base",
            "_view_module_version": "1.2.0",
            "_view_name": "StyleView",
            "description_width": ""
          }
        },
        "fc613b6ba070478da4cc38e2696cb98b": {
          "model_module": "@jupyter-widgets/base",
          "model_name": "LayoutModel",
          "model_module_version": "1.2.0",
          "state": {
            "_model_module": "@jupyter-widgets/base",
            "_model_module_version": "1.2.0",
            "_model_name": "LayoutModel",
            "_view_count": null,
            "_view_module": "@jupyter-widgets/base",
            "_view_module_version": "1.2.0",
            "_view_name": "LayoutView",
            "align_content": null,
            "align_items": null,
            "align_self": null,
            "border": null,
            "bottom": null,
            "display": null,
            "flex": null,
            "flex_flow": null,
            "grid_area": null,
            "grid_auto_columns": null,
            "grid_auto_flow": null,
            "grid_auto_rows": null,
            "grid_column": null,
            "grid_gap": null,
            "grid_row": null,
            "grid_template_areas": null,
            "grid_template_columns": null,
            "grid_template_rows": null,
            "height": null,
            "justify_content": null,
            "justify_items": null,
            "left": null,
            "margin": null,
            "max_height": null,
            "max_width": null,
            "min_height": null,
            "min_width": null,
            "object_fit": null,
            "object_position": null,
            "order": null,
            "overflow": null,
            "overflow_x": null,
            "overflow_y": null,
            "padding": null,
            "right": null,
            "top": null,
            "visibility": null,
            "width": null
          }
        },
        "19341f395ce646dcabd1d6ccfd616ec1": {
          "model_module": "@jupyter-widgets/controls",
          "model_name": "ProgressStyleModel",
          "model_module_version": "1.5.0",
          "state": {
            "_model_module": "@jupyter-widgets/controls",
            "_model_module_version": "1.5.0",
            "_model_name": "ProgressStyleModel",
            "_view_count": null,
            "_view_module": "@jupyter-widgets/base",
            "_view_module_version": "1.2.0",
            "_view_name": "StyleView",
            "bar_color": null,
            "description_width": ""
          }
        },
        "7b639c37c45b426c869aeff310441e00": {
          "model_module": "@jupyter-widgets/base",
          "model_name": "LayoutModel",
          "model_module_version": "1.2.0",
          "state": {
            "_model_module": "@jupyter-widgets/base",
            "_model_module_version": "1.2.0",
            "_model_name": "LayoutModel",
            "_view_count": null,
            "_view_module": "@jupyter-widgets/base",
            "_view_module_version": "1.2.0",
            "_view_name": "LayoutView",
            "align_content": null,
            "align_items": null,
            "align_self": null,
            "border": null,
            "bottom": null,
            "display": null,
            "flex": null,
            "flex_flow": null,
            "grid_area": null,
            "grid_auto_columns": null,
            "grid_auto_flow": null,
            "grid_auto_rows": null,
            "grid_column": null,
            "grid_gap": null,
            "grid_row": null,
            "grid_template_areas": null,
            "grid_template_columns": null,
            "grid_template_rows": null,
            "height": null,
            "justify_content": null,
            "justify_items": null,
            "left": null,
            "margin": null,
            "max_height": null,
            "max_width": null,
            "min_height": null,
            "min_width": null,
            "object_fit": null,
            "object_position": null,
            "order": null,
            "overflow": null,
            "overflow_x": null,
            "overflow_y": null,
            "padding": null,
            "right": null,
            "top": null,
            "visibility": null,
            "width": null
          }
        },
        "33ca09d642734065977d55da59883dbd": {
          "model_module": "@jupyter-widgets/controls",
          "model_name": "DescriptionStyleModel",
          "model_module_version": "1.5.0",
          "state": {
            "_model_module": "@jupyter-widgets/controls",
            "_model_module_version": "1.5.0",
            "_model_name": "DescriptionStyleModel",
            "_view_count": null,
            "_view_module": "@jupyter-widgets/base",
            "_view_module_version": "1.2.0",
            "_view_name": "StyleView",
            "description_width": ""
          }
        },
        "c4b7224f161543dcb60cc656dcbfb18e": {
          "model_module": "@jupyter-widgets/controls",
          "model_name": "HBoxModel",
          "model_module_version": "1.5.0",
          "state": {
            "_dom_classes": [],
            "_model_module": "@jupyter-widgets/controls",
            "_model_module_version": "1.5.0",
            "_model_name": "HBoxModel",
            "_view_count": null,
            "_view_module": "@jupyter-widgets/controls",
            "_view_module_version": "1.5.0",
            "_view_name": "HBoxView",
            "box_style": "",
            "children": [
              "IPY_MODEL_737454902d244d7ba6bde8f561d07b98",
              "IPY_MODEL_26d2c96bd308450a86a7bfba0d064ebb",
              "IPY_MODEL_b87eb7d3574a447da287b8e9a2da4d2a"
            ],
            "layout": "IPY_MODEL_61c7403537ee4e09a53e046445e81b34"
          }
        },
        "737454902d244d7ba6bde8f561d07b98": {
          "model_module": "@jupyter-widgets/controls",
          "model_name": "HTMLModel",
          "model_module_version": "1.5.0",
          "state": {
            "_dom_classes": [],
            "_model_module": "@jupyter-widgets/controls",
            "_model_module_version": "1.5.0",
            "_model_name": "HTMLModel",
            "_view_count": null,
            "_view_module": "@jupyter-widgets/controls",
            "_view_module_version": "1.5.0",
            "_view_name": "HTMLView",
            "description": "",
            "description_tooltip": null,
            "layout": "IPY_MODEL_e463330d8dc44e84b0ce9031a4d3ce8f",
            "placeholder": "​",
            "style": "IPY_MODEL_3587d428e0d74a29baeb04dc3fecc773",
            "value": "vocab.txt: 100%"
          }
        },
        "26d2c96bd308450a86a7bfba0d064ebb": {
          "model_module": "@jupyter-widgets/controls",
          "model_name": "FloatProgressModel",
          "model_module_version": "1.5.0",
          "state": {
            "_dom_classes": [],
            "_model_module": "@jupyter-widgets/controls",
            "_model_module_version": "1.5.0",
            "_model_name": "FloatProgressModel",
            "_view_count": null,
            "_view_module": "@jupyter-widgets/controls",
            "_view_module_version": "1.5.0",
            "_view_name": "ProgressView",
            "bar_style": "success",
            "description": "",
            "description_tooltip": null,
            "layout": "IPY_MODEL_66308e1df4f441b19f800984b68d2786",
            "max": 231508,
            "min": 0,
            "orientation": "horizontal",
            "style": "IPY_MODEL_9f5f75e3dbdd41da868a3a86709fb2a1",
            "value": 231508
          }
        },
        "b87eb7d3574a447da287b8e9a2da4d2a": {
          "model_module": "@jupyter-widgets/controls",
          "model_name": "HTMLModel",
          "model_module_version": "1.5.0",
          "state": {
            "_dom_classes": [],
            "_model_module": "@jupyter-widgets/controls",
            "_model_module_version": "1.5.0",
            "_model_name": "HTMLModel",
            "_view_count": null,
            "_view_module": "@jupyter-widgets/controls",
            "_view_module_version": "1.5.0",
            "_view_name": "HTMLView",
            "description": "",
            "description_tooltip": null,
            "layout": "IPY_MODEL_dd1af36e5f074ce5861def5b862cd6d8",
            "placeholder": "​",
            "style": "IPY_MODEL_47755d4e6b1a4e0385350b3bcb83327e",
            "value": " 232k/232k [00:00&lt;00:00, 638kB/s]"
          }
        },
        "61c7403537ee4e09a53e046445e81b34": {
          "model_module": "@jupyter-widgets/base",
          "model_name": "LayoutModel",
          "model_module_version": "1.2.0",
          "state": {
            "_model_module": "@jupyter-widgets/base",
            "_model_module_version": "1.2.0",
            "_model_name": "LayoutModel",
            "_view_count": null,
            "_view_module": "@jupyter-widgets/base",
            "_view_module_version": "1.2.0",
            "_view_name": "LayoutView",
            "align_content": null,
            "align_items": null,
            "align_self": null,
            "border": null,
            "bottom": null,
            "display": null,
            "flex": null,
            "flex_flow": null,
            "grid_area": null,
            "grid_auto_columns": null,
            "grid_auto_flow": null,
            "grid_auto_rows": null,
            "grid_column": null,
            "grid_gap": null,
            "grid_row": null,
            "grid_template_areas": null,
            "grid_template_columns": null,
            "grid_template_rows": null,
            "height": null,
            "justify_content": null,
            "justify_items": null,
            "left": null,
            "margin": null,
            "max_height": null,
            "max_width": null,
            "min_height": null,
            "min_width": null,
            "object_fit": null,
            "object_position": null,
            "order": null,
            "overflow": null,
            "overflow_x": null,
            "overflow_y": null,
            "padding": null,
            "right": null,
            "top": null,
            "visibility": null,
            "width": null
          }
        },
        "e463330d8dc44e84b0ce9031a4d3ce8f": {
          "model_module": "@jupyter-widgets/base",
          "model_name": "LayoutModel",
          "model_module_version": "1.2.0",
          "state": {
            "_model_module": "@jupyter-widgets/base",
            "_model_module_version": "1.2.0",
            "_model_name": "LayoutModel",
            "_view_count": null,
            "_view_module": "@jupyter-widgets/base",
            "_view_module_version": "1.2.0",
            "_view_name": "LayoutView",
            "align_content": null,
            "align_items": null,
            "align_self": null,
            "border": null,
            "bottom": null,
            "display": null,
            "flex": null,
            "flex_flow": null,
            "grid_area": null,
            "grid_auto_columns": null,
            "grid_auto_flow": null,
            "grid_auto_rows": null,
            "grid_column": null,
            "grid_gap": null,
            "grid_row": null,
            "grid_template_areas": null,
            "grid_template_columns": null,
            "grid_template_rows": null,
            "height": null,
            "justify_content": null,
            "justify_items": null,
            "left": null,
            "margin": null,
            "max_height": null,
            "max_width": null,
            "min_height": null,
            "min_width": null,
            "object_fit": null,
            "object_position": null,
            "order": null,
            "overflow": null,
            "overflow_x": null,
            "overflow_y": null,
            "padding": null,
            "right": null,
            "top": null,
            "visibility": null,
            "width": null
          }
        },
        "3587d428e0d74a29baeb04dc3fecc773": {
          "model_module": "@jupyter-widgets/controls",
          "model_name": "DescriptionStyleModel",
          "model_module_version": "1.5.0",
          "state": {
            "_model_module": "@jupyter-widgets/controls",
            "_model_module_version": "1.5.0",
            "_model_name": "DescriptionStyleModel",
            "_view_count": null,
            "_view_module": "@jupyter-widgets/base",
            "_view_module_version": "1.2.0",
            "_view_name": "StyleView",
            "description_width": ""
          }
        },
        "66308e1df4f441b19f800984b68d2786": {
          "model_module": "@jupyter-widgets/base",
          "model_name": "LayoutModel",
          "model_module_version": "1.2.0",
          "state": {
            "_model_module": "@jupyter-widgets/base",
            "_model_module_version": "1.2.0",
            "_model_name": "LayoutModel",
            "_view_count": null,
            "_view_module": "@jupyter-widgets/base",
            "_view_module_version": "1.2.0",
            "_view_name": "LayoutView",
            "align_content": null,
            "align_items": null,
            "align_self": null,
            "border": null,
            "bottom": null,
            "display": null,
            "flex": null,
            "flex_flow": null,
            "grid_area": null,
            "grid_auto_columns": null,
            "grid_auto_flow": null,
            "grid_auto_rows": null,
            "grid_column": null,
            "grid_gap": null,
            "grid_row": null,
            "grid_template_areas": null,
            "grid_template_columns": null,
            "grid_template_rows": null,
            "height": null,
            "justify_content": null,
            "justify_items": null,
            "left": null,
            "margin": null,
            "max_height": null,
            "max_width": null,
            "min_height": null,
            "min_width": null,
            "object_fit": null,
            "object_position": null,
            "order": null,
            "overflow": null,
            "overflow_x": null,
            "overflow_y": null,
            "padding": null,
            "right": null,
            "top": null,
            "visibility": null,
            "width": null
          }
        },
        "9f5f75e3dbdd41da868a3a86709fb2a1": {
          "model_module": "@jupyter-widgets/controls",
          "model_name": "ProgressStyleModel",
          "model_module_version": "1.5.0",
          "state": {
            "_model_module": "@jupyter-widgets/controls",
            "_model_module_version": "1.5.0",
            "_model_name": "ProgressStyleModel",
            "_view_count": null,
            "_view_module": "@jupyter-widgets/base",
            "_view_module_version": "1.2.0",
            "_view_name": "StyleView",
            "bar_color": null,
            "description_width": ""
          }
        },
        "dd1af36e5f074ce5861def5b862cd6d8": {
          "model_module": "@jupyter-widgets/base",
          "model_name": "LayoutModel",
          "model_module_version": "1.2.0",
          "state": {
            "_model_module": "@jupyter-widgets/base",
            "_model_module_version": "1.2.0",
            "_model_name": "LayoutModel",
            "_view_count": null,
            "_view_module": "@jupyter-widgets/base",
            "_view_module_version": "1.2.0",
            "_view_name": "LayoutView",
            "align_content": null,
            "align_items": null,
            "align_self": null,
            "border": null,
            "bottom": null,
            "display": null,
            "flex": null,
            "flex_flow": null,
            "grid_area": null,
            "grid_auto_columns": null,
            "grid_auto_flow": null,
            "grid_auto_rows": null,
            "grid_column": null,
            "grid_gap": null,
            "grid_row": null,
            "grid_template_areas": null,
            "grid_template_columns": null,
            "grid_template_rows": null,
            "height": null,
            "justify_content": null,
            "justify_items": null,
            "left": null,
            "margin": null,
            "max_height": null,
            "max_width": null,
            "min_height": null,
            "min_width": null,
            "object_fit": null,
            "object_position": null,
            "order": null,
            "overflow": null,
            "overflow_x": null,
            "overflow_y": null,
            "padding": null,
            "right": null,
            "top": null,
            "visibility": null,
            "width": null
          }
        },
        "47755d4e6b1a4e0385350b3bcb83327e": {
          "model_module": "@jupyter-widgets/controls",
          "model_name": "DescriptionStyleModel",
          "model_module_version": "1.5.0",
          "state": {
            "_model_module": "@jupyter-widgets/controls",
            "_model_module_version": "1.5.0",
            "_model_name": "DescriptionStyleModel",
            "_view_count": null,
            "_view_module": "@jupyter-widgets/base",
            "_view_module_version": "1.2.0",
            "_view_name": "StyleView",
            "description_width": ""
          }
        },
        "f0b30f4bd67f415ca9cf96ab0bc48db2": {
          "model_module": "@jupyter-widgets/controls",
          "model_name": "HBoxModel",
          "model_module_version": "1.5.0",
          "state": {
            "_dom_classes": [],
            "_model_module": "@jupyter-widgets/controls",
            "_model_module_version": "1.5.0",
            "_model_name": "HBoxModel",
            "_view_count": null,
            "_view_module": "@jupyter-widgets/controls",
            "_view_module_version": "1.5.0",
            "_view_name": "HBoxView",
            "box_style": "",
            "children": [
              "IPY_MODEL_a9a7c7b4f0a44554b7bb06166eaeedea",
              "IPY_MODEL_b1798f2ddc0a4029b9be3be2e975e201",
              "IPY_MODEL_8fa4201883f44c488f2ad2978cd33aba"
            ],
            "layout": "IPY_MODEL_5e45bb807f8b44c3a0e8e8e4f4cb1d07"
          }
        },
        "a9a7c7b4f0a44554b7bb06166eaeedea": {
          "model_module": "@jupyter-widgets/controls",
          "model_name": "HTMLModel",
          "model_module_version": "1.5.0",
          "state": {
            "_dom_classes": [],
            "_model_module": "@jupyter-widgets/controls",
            "_model_module_version": "1.5.0",
            "_model_name": "HTMLModel",
            "_view_count": null,
            "_view_module": "@jupyter-widgets/controls",
            "_view_module_version": "1.5.0",
            "_view_name": "HTMLView",
            "description": "",
            "description_tooltip": null,
            "layout": "IPY_MODEL_a2f5223133064649ad1c945dadfbea7f",
            "placeholder": "​",
            "style": "IPY_MODEL_254ffad7181d431f87638b313f9bd062",
            "value": "tokenizer_config.json: 100%"
          }
        },
        "b1798f2ddc0a4029b9be3be2e975e201": {
          "model_module": "@jupyter-widgets/controls",
          "model_name": "FloatProgressModel",
          "model_module_version": "1.5.0",
          "state": {
            "_dom_classes": [],
            "_model_module": "@jupyter-widgets/controls",
            "_model_module_version": "1.5.0",
            "_model_name": "FloatProgressModel",
            "_view_count": null,
            "_view_module": "@jupyter-widgets/controls",
            "_view_module_version": "1.5.0",
            "_view_name": "ProgressView",
            "bar_style": "success",
            "description": "",
            "description_tooltip": null,
            "layout": "IPY_MODEL_eec8f207fcbb40f2af4828976d17bd4d",
            "max": 48,
            "min": 0,
            "orientation": "horizontal",
            "style": "IPY_MODEL_23886f67739a4a1eafcb2ae55f024953",
            "value": 48
          }
        },
        "8fa4201883f44c488f2ad2978cd33aba": {
          "model_module": "@jupyter-widgets/controls",
          "model_name": "HTMLModel",
          "model_module_version": "1.5.0",
          "state": {
            "_dom_classes": [],
            "_model_module": "@jupyter-widgets/controls",
            "_model_module_version": "1.5.0",
            "_model_name": "HTMLModel",
            "_view_count": null,
            "_view_module": "@jupyter-widgets/controls",
            "_view_module_version": "1.5.0",
            "_view_name": "HTMLView",
            "description": "",
            "description_tooltip": null,
            "layout": "IPY_MODEL_9ef0d4bde9eb45a69b9170b6ec2d983c",
            "placeholder": "​",
            "style": "IPY_MODEL_bd7b671b530145f89e679dc924db8ea3",
            "value": " 48.0/48.0 [00:00&lt;00:00, 585B/s]"
          }
        },
        "5e45bb807f8b44c3a0e8e8e4f4cb1d07": {
          "model_module": "@jupyter-widgets/base",
          "model_name": "LayoutModel",
          "model_module_version": "1.2.0",
          "state": {
            "_model_module": "@jupyter-widgets/base",
            "_model_module_version": "1.2.0",
            "_model_name": "LayoutModel",
            "_view_count": null,
            "_view_module": "@jupyter-widgets/base",
            "_view_module_version": "1.2.0",
            "_view_name": "LayoutView",
            "align_content": null,
            "align_items": null,
            "align_self": null,
            "border": null,
            "bottom": null,
            "display": null,
            "flex": null,
            "flex_flow": null,
            "grid_area": null,
            "grid_auto_columns": null,
            "grid_auto_flow": null,
            "grid_auto_rows": null,
            "grid_column": null,
            "grid_gap": null,
            "grid_row": null,
            "grid_template_areas": null,
            "grid_template_columns": null,
            "grid_template_rows": null,
            "height": null,
            "justify_content": null,
            "justify_items": null,
            "left": null,
            "margin": null,
            "max_height": null,
            "max_width": null,
            "min_height": null,
            "min_width": null,
            "object_fit": null,
            "object_position": null,
            "order": null,
            "overflow": null,
            "overflow_x": null,
            "overflow_y": null,
            "padding": null,
            "right": null,
            "top": null,
            "visibility": null,
            "width": null
          }
        },
        "a2f5223133064649ad1c945dadfbea7f": {
          "model_module": "@jupyter-widgets/base",
          "model_name": "LayoutModel",
          "model_module_version": "1.2.0",
          "state": {
            "_model_module": "@jupyter-widgets/base",
            "_model_module_version": "1.2.0",
            "_model_name": "LayoutModel",
            "_view_count": null,
            "_view_module": "@jupyter-widgets/base",
            "_view_module_version": "1.2.0",
            "_view_name": "LayoutView",
            "align_content": null,
            "align_items": null,
            "align_self": null,
            "border": null,
            "bottom": null,
            "display": null,
            "flex": null,
            "flex_flow": null,
            "grid_area": null,
            "grid_auto_columns": null,
            "grid_auto_flow": null,
            "grid_auto_rows": null,
            "grid_column": null,
            "grid_gap": null,
            "grid_row": null,
            "grid_template_areas": null,
            "grid_template_columns": null,
            "grid_template_rows": null,
            "height": null,
            "justify_content": null,
            "justify_items": null,
            "left": null,
            "margin": null,
            "max_height": null,
            "max_width": null,
            "min_height": null,
            "min_width": null,
            "object_fit": null,
            "object_position": null,
            "order": null,
            "overflow": null,
            "overflow_x": null,
            "overflow_y": null,
            "padding": null,
            "right": null,
            "top": null,
            "visibility": null,
            "width": null
          }
        },
        "254ffad7181d431f87638b313f9bd062": {
          "model_module": "@jupyter-widgets/controls",
          "model_name": "DescriptionStyleModel",
          "model_module_version": "1.5.0",
          "state": {
            "_model_module": "@jupyter-widgets/controls",
            "_model_module_version": "1.5.0",
            "_model_name": "DescriptionStyleModel",
            "_view_count": null,
            "_view_module": "@jupyter-widgets/base",
            "_view_module_version": "1.2.0",
            "_view_name": "StyleView",
            "description_width": ""
          }
        },
        "eec8f207fcbb40f2af4828976d17bd4d": {
          "model_module": "@jupyter-widgets/base",
          "model_name": "LayoutModel",
          "model_module_version": "1.2.0",
          "state": {
            "_model_module": "@jupyter-widgets/base",
            "_model_module_version": "1.2.0",
            "_model_name": "LayoutModel",
            "_view_count": null,
            "_view_module": "@jupyter-widgets/base",
            "_view_module_version": "1.2.0",
            "_view_name": "LayoutView",
            "align_content": null,
            "align_items": null,
            "align_self": null,
            "border": null,
            "bottom": null,
            "display": null,
            "flex": null,
            "flex_flow": null,
            "grid_area": null,
            "grid_auto_columns": null,
            "grid_auto_flow": null,
            "grid_auto_rows": null,
            "grid_column": null,
            "grid_gap": null,
            "grid_row": null,
            "grid_template_areas": null,
            "grid_template_columns": null,
            "grid_template_rows": null,
            "height": null,
            "justify_content": null,
            "justify_items": null,
            "left": null,
            "margin": null,
            "max_height": null,
            "max_width": null,
            "min_height": null,
            "min_width": null,
            "object_fit": null,
            "object_position": null,
            "order": null,
            "overflow": null,
            "overflow_x": null,
            "overflow_y": null,
            "padding": null,
            "right": null,
            "top": null,
            "visibility": null,
            "width": null
          }
        },
        "23886f67739a4a1eafcb2ae55f024953": {
          "model_module": "@jupyter-widgets/controls",
          "model_name": "ProgressStyleModel",
          "model_module_version": "1.5.0",
          "state": {
            "_model_module": "@jupyter-widgets/controls",
            "_model_module_version": "1.5.0",
            "_model_name": "ProgressStyleModel",
            "_view_count": null,
            "_view_module": "@jupyter-widgets/base",
            "_view_module_version": "1.2.0",
            "_view_name": "StyleView",
            "bar_color": null,
            "description_width": ""
          }
        },
        "9ef0d4bde9eb45a69b9170b6ec2d983c": {
          "model_module": "@jupyter-widgets/base",
          "model_name": "LayoutModel",
          "model_module_version": "1.2.0",
          "state": {
            "_model_module": "@jupyter-widgets/base",
            "_model_module_version": "1.2.0",
            "_model_name": "LayoutModel",
            "_view_count": null,
            "_view_module": "@jupyter-widgets/base",
            "_view_module_version": "1.2.0",
            "_view_name": "LayoutView",
            "align_content": null,
            "align_items": null,
            "align_self": null,
            "border": null,
            "bottom": null,
            "display": null,
            "flex": null,
            "flex_flow": null,
            "grid_area": null,
            "grid_auto_columns": null,
            "grid_auto_flow": null,
            "grid_auto_rows": null,
            "grid_column": null,
            "grid_gap": null,
            "grid_row": null,
            "grid_template_areas": null,
            "grid_template_columns": null,
            "grid_template_rows": null,
            "height": null,
            "justify_content": null,
            "justify_items": null,
            "left": null,
            "margin": null,
            "max_height": null,
            "max_width": null,
            "min_height": null,
            "min_width": null,
            "object_fit": null,
            "object_position": null,
            "order": null,
            "overflow": null,
            "overflow_x": null,
            "overflow_y": null,
            "padding": null,
            "right": null,
            "top": null,
            "visibility": null,
            "width": null
          }
        },
        "bd7b671b530145f89e679dc924db8ea3": {
          "model_module": "@jupyter-widgets/controls",
          "model_name": "DescriptionStyleModel",
          "model_module_version": "1.5.0",
          "state": {
            "_model_module": "@jupyter-widgets/controls",
            "_model_module_version": "1.5.0",
            "_model_name": "DescriptionStyleModel",
            "_view_count": null,
            "_view_module": "@jupyter-widgets/base",
            "_view_module_version": "1.2.0",
            "_view_name": "StyleView",
            "description_width": ""
          }
        },
        "34fcf2e1e0324bed8f5efe9060b189b2": {
          "model_module": "@jupyter-widgets/controls",
          "model_name": "HBoxModel",
          "model_module_version": "1.5.0",
          "state": {
            "_dom_classes": [],
            "_model_module": "@jupyter-widgets/controls",
            "_model_module_version": "1.5.0",
            "_model_name": "HBoxModel",
            "_view_count": null,
            "_view_module": "@jupyter-widgets/controls",
            "_view_module_version": "1.5.0",
            "_view_name": "HBoxView",
            "box_style": "",
            "children": [
              "IPY_MODEL_9a2edef054984f618e1b0740c913b988",
              "IPY_MODEL_a96dc514cd8e48d89a0d57f9f33dde6e",
              "IPY_MODEL_67aca97e77b94e99834b2e2a203cad2f"
            ],
            "layout": "IPY_MODEL_c5a0cacb89be416e9336f9828b153405"
          }
        },
        "9a2edef054984f618e1b0740c913b988": {
          "model_module": "@jupyter-widgets/controls",
          "model_name": "HTMLModel",
          "model_module_version": "1.5.0",
          "state": {
            "_dom_classes": [],
            "_model_module": "@jupyter-widgets/controls",
            "_model_module_version": "1.5.0",
            "_model_name": "HTMLModel",
            "_view_count": null,
            "_view_module": "@jupyter-widgets/controls",
            "_view_module_version": "1.5.0",
            "_view_name": "HTMLView",
            "description": "",
            "description_tooltip": null,
            "layout": "IPY_MODEL_a996214916634cb58e0a2729017ca165",
            "placeholder": "​",
            "style": "IPY_MODEL_498f492bbf754599ba5c23ee147af2a7",
            "value": "config.json: 100%"
          }
        },
        "a96dc514cd8e48d89a0d57f9f33dde6e": {
          "model_module": "@jupyter-widgets/controls",
          "model_name": "FloatProgressModel",
          "model_module_version": "1.5.0",
          "state": {
            "_dom_classes": [],
            "_model_module": "@jupyter-widgets/controls",
            "_model_module_version": "1.5.0",
            "_model_name": "FloatProgressModel",
            "_view_count": null,
            "_view_module": "@jupyter-widgets/controls",
            "_view_module_version": "1.5.0",
            "_view_name": "ProgressView",
            "bar_style": "success",
            "description": "",
            "description_tooltip": null,
            "layout": "IPY_MODEL_96911b8e309140198ffd2a190479702d",
            "max": 629,
            "min": 0,
            "orientation": "horizontal",
            "style": "IPY_MODEL_a46d3ab0d778460ca00c98dc9336829d",
            "value": 629
          }
        },
        "67aca97e77b94e99834b2e2a203cad2f": {
          "model_module": "@jupyter-widgets/controls",
          "model_name": "HTMLModel",
          "model_module_version": "1.5.0",
          "state": {
            "_dom_classes": [],
            "_model_module": "@jupyter-widgets/controls",
            "_model_module_version": "1.5.0",
            "_model_name": "HTMLModel",
            "_view_count": null,
            "_view_module": "@jupyter-widgets/controls",
            "_view_module_version": "1.5.0",
            "_view_name": "HTMLView",
            "description": "",
            "description_tooltip": null,
            "layout": "IPY_MODEL_d215d79117c745c181dd469550c0e6b9",
            "placeholder": "​",
            "style": "IPY_MODEL_1cffb5b5e34345b29e7539578412af2e",
            "value": " 629/629 [00:00&lt;00:00, 12.5kB/s]"
          }
        },
        "c5a0cacb89be416e9336f9828b153405": {
          "model_module": "@jupyter-widgets/base",
          "model_name": "LayoutModel",
          "model_module_version": "1.2.0",
          "state": {
            "_model_module": "@jupyter-widgets/base",
            "_model_module_version": "1.2.0",
            "_model_name": "LayoutModel",
            "_view_count": null,
            "_view_module": "@jupyter-widgets/base",
            "_view_module_version": "1.2.0",
            "_view_name": "LayoutView",
            "align_content": null,
            "align_items": null,
            "align_self": null,
            "border": null,
            "bottom": null,
            "display": null,
            "flex": null,
            "flex_flow": null,
            "grid_area": null,
            "grid_auto_columns": null,
            "grid_auto_flow": null,
            "grid_auto_rows": null,
            "grid_column": null,
            "grid_gap": null,
            "grid_row": null,
            "grid_template_areas": null,
            "grid_template_columns": null,
            "grid_template_rows": null,
            "height": null,
            "justify_content": null,
            "justify_items": null,
            "left": null,
            "margin": null,
            "max_height": null,
            "max_width": null,
            "min_height": null,
            "min_width": null,
            "object_fit": null,
            "object_position": null,
            "order": null,
            "overflow": null,
            "overflow_x": null,
            "overflow_y": null,
            "padding": null,
            "right": null,
            "top": null,
            "visibility": null,
            "width": null
          }
        },
        "a996214916634cb58e0a2729017ca165": {
          "model_module": "@jupyter-widgets/base",
          "model_name": "LayoutModel",
          "model_module_version": "1.2.0",
          "state": {
            "_model_module": "@jupyter-widgets/base",
            "_model_module_version": "1.2.0",
            "_model_name": "LayoutModel",
            "_view_count": null,
            "_view_module": "@jupyter-widgets/base",
            "_view_module_version": "1.2.0",
            "_view_name": "LayoutView",
            "align_content": null,
            "align_items": null,
            "align_self": null,
            "border": null,
            "bottom": null,
            "display": null,
            "flex": null,
            "flex_flow": null,
            "grid_area": null,
            "grid_auto_columns": null,
            "grid_auto_flow": null,
            "grid_auto_rows": null,
            "grid_column": null,
            "grid_gap": null,
            "grid_row": null,
            "grid_template_areas": null,
            "grid_template_columns": null,
            "grid_template_rows": null,
            "height": null,
            "justify_content": null,
            "justify_items": null,
            "left": null,
            "margin": null,
            "max_height": null,
            "max_width": null,
            "min_height": null,
            "min_width": null,
            "object_fit": null,
            "object_position": null,
            "order": null,
            "overflow": null,
            "overflow_x": null,
            "overflow_y": null,
            "padding": null,
            "right": null,
            "top": null,
            "visibility": null,
            "width": null
          }
        },
        "498f492bbf754599ba5c23ee147af2a7": {
          "model_module": "@jupyter-widgets/controls",
          "model_name": "DescriptionStyleModel",
          "model_module_version": "1.5.0",
          "state": {
            "_model_module": "@jupyter-widgets/controls",
            "_model_module_version": "1.5.0",
            "_model_name": "DescriptionStyleModel",
            "_view_count": null,
            "_view_module": "@jupyter-widgets/base",
            "_view_module_version": "1.2.0",
            "_view_name": "StyleView",
            "description_width": ""
          }
        },
        "96911b8e309140198ffd2a190479702d": {
          "model_module": "@jupyter-widgets/base",
          "model_name": "LayoutModel",
          "model_module_version": "1.2.0",
          "state": {
            "_model_module": "@jupyter-widgets/base",
            "_model_module_version": "1.2.0",
            "_model_name": "LayoutModel",
            "_view_count": null,
            "_view_module": "@jupyter-widgets/base",
            "_view_module_version": "1.2.0",
            "_view_name": "LayoutView",
            "align_content": null,
            "align_items": null,
            "align_self": null,
            "border": null,
            "bottom": null,
            "display": null,
            "flex": null,
            "flex_flow": null,
            "grid_area": null,
            "grid_auto_columns": null,
            "grid_auto_flow": null,
            "grid_auto_rows": null,
            "grid_column": null,
            "grid_gap": null,
            "grid_row": null,
            "grid_template_areas": null,
            "grid_template_columns": null,
            "grid_template_rows": null,
            "height": null,
            "justify_content": null,
            "justify_items": null,
            "left": null,
            "margin": null,
            "max_height": null,
            "max_width": null,
            "min_height": null,
            "min_width": null,
            "object_fit": null,
            "object_position": null,
            "order": null,
            "overflow": null,
            "overflow_x": null,
            "overflow_y": null,
            "padding": null,
            "right": null,
            "top": null,
            "visibility": null,
            "width": null
          }
        },
        "a46d3ab0d778460ca00c98dc9336829d": {
          "model_module": "@jupyter-widgets/controls",
          "model_name": "ProgressStyleModel",
          "model_module_version": "1.5.0",
          "state": {
            "_model_module": "@jupyter-widgets/controls",
            "_model_module_version": "1.5.0",
            "_model_name": "ProgressStyleModel",
            "_view_count": null,
            "_view_module": "@jupyter-widgets/base",
            "_view_module_version": "1.2.0",
            "_view_name": "StyleView",
            "bar_color": null,
            "description_width": ""
          }
        },
        "d215d79117c745c181dd469550c0e6b9": {
          "model_module": "@jupyter-widgets/base",
          "model_name": "LayoutModel",
          "model_module_version": "1.2.0",
          "state": {
            "_model_module": "@jupyter-widgets/base",
            "_model_module_version": "1.2.0",
            "_model_name": "LayoutModel",
            "_view_count": null,
            "_view_module": "@jupyter-widgets/base",
            "_view_module_version": "1.2.0",
            "_view_name": "LayoutView",
            "align_content": null,
            "align_items": null,
            "align_self": null,
            "border": null,
            "bottom": null,
            "display": null,
            "flex": null,
            "flex_flow": null,
            "grid_area": null,
            "grid_auto_columns": null,
            "grid_auto_flow": null,
            "grid_auto_rows": null,
            "grid_column": null,
            "grid_gap": null,
            "grid_row": null,
            "grid_template_areas": null,
            "grid_template_columns": null,
            "grid_template_rows": null,
            "height": null,
            "justify_content": null,
            "justify_items": null,
            "left": null,
            "margin": null,
            "max_height": null,
            "max_width": null,
            "min_height": null,
            "min_width": null,
            "object_fit": null,
            "object_position": null,
            "order": null,
            "overflow": null,
            "overflow_x": null,
            "overflow_y": null,
            "padding": null,
            "right": null,
            "top": null,
            "visibility": null,
            "width": null
          }
        },
        "1cffb5b5e34345b29e7539578412af2e": {
          "model_module": "@jupyter-widgets/controls",
          "model_name": "DescriptionStyleModel",
          "model_module_version": "1.5.0",
          "state": {
            "_model_module": "@jupyter-widgets/controls",
            "_model_module_version": "1.5.0",
            "_model_name": "DescriptionStyleModel",
            "_view_count": null,
            "_view_module": "@jupyter-widgets/base",
            "_view_module_version": "1.2.0",
            "_view_name": "StyleView",
            "description_width": ""
          }
        },
        "9914f88e92084fb6a9afe5c048bb32c6": {
          "model_module": "@jupyter-widgets/controls",
          "model_name": "HBoxModel",
          "model_module_version": "1.5.0",
          "state": {
            "_dom_classes": [],
            "_model_module": "@jupyter-widgets/controls",
            "_model_module_version": "1.5.0",
            "_model_name": "HBoxModel",
            "_view_count": null,
            "_view_module": "@jupyter-widgets/controls",
            "_view_module_version": "1.5.0",
            "_view_name": "HBoxView",
            "box_style": "",
            "children": [
              "IPY_MODEL_03c4a0354c4143fabf7f9e6e479ed2f3",
              "IPY_MODEL_d9dd5f775b774b1b9cd8d7986ed8d4ac",
              "IPY_MODEL_81f25407b431490e9a082c854d08c2ee"
            ],
            "layout": "IPY_MODEL_d3dfff3e9b28484da7f3c015b873b65a"
          }
        },
        "03c4a0354c4143fabf7f9e6e479ed2f3": {
          "model_module": "@jupyter-widgets/controls",
          "model_name": "HTMLModel",
          "model_module_version": "1.5.0",
          "state": {
            "_dom_classes": [],
            "_model_module": "@jupyter-widgets/controls",
            "_model_module_version": "1.5.0",
            "_model_name": "HTMLModel",
            "_view_count": null,
            "_view_module": "@jupyter-widgets/controls",
            "_view_module_version": "1.5.0",
            "_view_name": "HTMLView",
            "description": "",
            "description_tooltip": null,
            "layout": "IPY_MODEL_137976d2f9834d74941721c5ba036401",
            "placeholder": "​",
            "style": "IPY_MODEL_91ae9a6c6739401da6db43fa4f1132c2",
            "value": "vocab.txt: 100%"
          }
        },
        "d9dd5f775b774b1b9cd8d7986ed8d4ac": {
          "model_module": "@jupyter-widgets/controls",
          "model_name": "FloatProgressModel",
          "model_module_version": "1.5.0",
          "state": {
            "_dom_classes": [],
            "_model_module": "@jupyter-widgets/controls",
            "_model_module_version": "1.5.0",
            "_model_name": "FloatProgressModel",
            "_view_count": null,
            "_view_module": "@jupyter-widgets/controls",
            "_view_module_version": "1.5.0",
            "_view_name": "ProgressView",
            "bar_style": "success",
            "description": "",
            "description_tooltip": null,
            "layout": "IPY_MODEL_c241c0ee1a1e4b6e82766d2b17c31130",
            "max": 231508,
            "min": 0,
            "orientation": "horizontal",
            "style": "IPY_MODEL_6336a553420c4c9f8b88fffeeaaa6d91",
            "value": 231508
          }
        },
        "81f25407b431490e9a082c854d08c2ee": {
          "model_module": "@jupyter-widgets/controls",
          "model_name": "HTMLModel",
          "model_module_version": "1.5.0",
          "state": {
            "_dom_classes": [],
            "_model_module": "@jupyter-widgets/controls",
            "_model_module_version": "1.5.0",
            "_model_name": "HTMLModel",
            "_view_count": null,
            "_view_module": "@jupyter-widgets/controls",
            "_view_module_version": "1.5.0",
            "_view_name": "HTMLView",
            "description": "",
            "description_tooltip": null,
            "layout": "IPY_MODEL_c46c353051fd47179fb8bb8de3dbe9e4",
            "placeholder": "​",
            "style": "IPY_MODEL_63ae895cdea542499b1c95c1002d3152",
            "value": " 232k/232k [00:00&lt;00:00, 1.61MB/s]"
          }
        },
        "d3dfff3e9b28484da7f3c015b873b65a": {
          "model_module": "@jupyter-widgets/base",
          "model_name": "LayoutModel",
          "model_module_version": "1.2.0",
          "state": {
            "_model_module": "@jupyter-widgets/base",
            "_model_module_version": "1.2.0",
            "_model_name": "LayoutModel",
            "_view_count": null,
            "_view_module": "@jupyter-widgets/base",
            "_view_module_version": "1.2.0",
            "_view_name": "LayoutView",
            "align_content": null,
            "align_items": null,
            "align_self": null,
            "border": null,
            "bottom": null,
            "display": null,
            "flex": null,
            "flex_flow": null,
            "grid_area": null,
            "grid_auto_columns": null,
            "grid_auto_flow": null,
            "grid_auto_rows": null,
            "grid_column": null,
            "grid_gap": null,
            "grid_row": null,
            "grid_template_areas": null,
            "grid_template_columns": null,
            "grid_template_rows": null,
            "height": null,
            "justify_content": null,
            "justify_items": null,
            "left": null,
            "margin": null,
            "max_height": null,
            "max_width": null,
            "min_height": null,
            "min_width": null,
            "object_fit": null,
            "object_position": null,
            "order": null,
            "overflow": null,
            "overflow_x": null,
            "overflow_y": null,
            "padding": null,
            "right": null,
            "top": null,
            "visibility": null,
            "width": null
          }
        },
        "137976d2f9834d74941721c5ba036401": {
          "model_module": "@jupyter-widgets/base",
          "model_name": "LayoutModel",
          "model_module_version": "1.2.0",
          "state": {
            "_model_module": "@jupyter-widgets/base",
            "_model_module_version": "1.2.0",
            "_model_name": "LayoutModel",
            "_view_count": null,
            "_view_module": "@jupyter-widgets/base",
            "_view_module_version": "1.2.0",
            "_view_name": "LayoutView",
            "align_content": null,
            "align_items": null,
            "align_self": null,
            "border": null,
            "bottom": null,
            "display": null,
            "flex": null,
            "flex_flow": null,
            "grid_area": null,
            "grid_auto_columns": null,
            "grid_auto_flow": null,
            "grid_auto_rows": null,
            "grid_column": null,
            "grid_gap": null,
            "grid_row": null,
            "grid_template_areas": null,
            "grid_template_columns": null,
            "grid_template_rows": null,
            "height": null,
            "justify_content": null,
            "justify_items": null,
            "left": null,
            "margin": null,
            "max_height": null,
            "max_width": null,
            "min_height": null,
            "min_width": null,
            "object_fit": null,
            "object_position": null,
            "order": null,
            "overflow": null,
            "overflow_x": null,
            "overflow_y": null,
            "padding": null,
            "right": null,
            "top": null,
            "visibility": null,
            "width": null
          }
        },
        "91ae9a6c6739401da6db43fa4f1132c2": {
          "model_module": "@jupyter-widgets/controls",
          "model_name": "DescriptionStyleModel",
          "model_module_version": "1.5.0",
          "state": {
            "_model_module": "@jupyter-widgets/controls",
            "_model_module_version": "1.5.0",
            "_model_name": "DescriptionStyleModel",
            "_view_count": null,
            "_view_module": "@jupyter-widgets/base",
            "_view_module_version": "1.2.0",
            "_view_name": "StyleView",
            "description_width": ""
          }
        },
        "c241c0ee1a1e4b6e82766d2b17c31130": {
          "model_module": "@jupyter-widgets/base",
          "model_name": "LayoutModel",
          "model_module_version": "1.2.0",
          "state": {
            "_model_module": "@jupyter-widgets/base",
            "_model_module_version": "1.2.0",
            "_model_name": "LayoutModel",
            "_view_count": null,
            "_view_module": "@jupyter-widgets/base",
            "_view_module_version": "1.2.0",
            "_view_name": "LayoutView",
            "align_content": null,
            "align_items": null,
            "align_self": null,
            "border": null,
            "bottom": null,
            "display": null,
            "flex": null,
            "flex_flow": null,
            "grid_area": null,
            "grid_auto_columns": null,
            "grid_auto_flow": null,
            "grid_auto_rows": null,
            "grid_column": null,
            "grid_gap": null,
            "grid_row": null,
            "grid_template_areas": null,
            "grid_template_columns": null,
            "grid_template_rows": null,
            "height": null,
            "justify_content": null,
            "justify_items": null,
            "left": null,
            "margin": null,
            "max_height": null,
            "max_width": null,
            "min_height": null,
            "min_width": null,
            "object_fit": null,
            "object_position": null,
            "order": null,
            "overflow": null,
            "overflow_x": null,
            "overflow_y": null,
            "padding": null,
            "right": null,
            "top": null,
            "visibility": null,
            "width": null
          }
        },
        "6336a553420c4c9f8b88fffeeaaa6d91": {
          "model_module": "@jupyter-widgets/controls",
          "model_name": "ProgressStyleModel",
          "model_module_version": "1.5.0",
          "state": {
            "_model_module": "@jupyter-widgets/controls",
            "_model_module_version": "1.5.0",
            "_model_name": "ProgressStyleModel",
            "_view_count": null,
            "_view_module": "@jupyter-widgets/base",
            "_view_module_version": "1.2.0",
            "_view_name": "StyleView",
            "bar_color": null,
            "description_width": ""
          }
        },
        "c46c353051fd47179fb8bb8de3dbe9e4": {
          "model_module": "@jupyter-widgets/base",
          "model_name": "LayoutModel",
          "model_module_version": "1.2.0",
          "state": {
            "_model_module": "@jupyter-widgets/base",
            "_model_module_version": "1.2.0",
            "_model_name": "LayoutModel",
            "_view_count": null,
            "_view_module": "@jupyter-widgets/base",
            "_view_module_version": "1.2.0",
            "_view_name": "LayoutView",
            "align_content": null,
            "align_items": null,
            "align_self": null,
            "border": null,
            "bottom": null,
            "display": null,
            "flex": null,
            "flex_flow": null,
            "grid_area": null,
            "grid_auto_columns": null,
            "grid_auto_flow": null,
            "grid_auto_rows": null,
            "grid_column": null,
            "grid_gap": null,
            "grid_row": null,
            "grid_template_areas": null,
            "grid_template_columns": null,
            "grid_template_rows": null,
            "height": null,
            "justify_content": null,
            "justify_items": null,
            "left": null,
            "margin": null,
            "max_height": null,
            "max_width": null,
            "min_height": null,
            "min_width": null,
            "object_fit": null,
            "object_position": null,
            "order": null,
            "overflow": null,
            "overflow_x": null,
            "overflow_y": null,
            "padding": null,
            "right": null,
            "top": null,
            "visibility": null,
            "width": null
          }
        },
        "63ae895cdea542499b1c95c1002d3152": {
          "model_module": "@jupyter-widgets/controls",
          "model_name": "DescriptionStyleModel",
          "model_module_version": "1.5.0",
          "state": {
            "_model_module": "@jupyter-widgets/controls",
            "_model_module_version": "1.5.0",
            "_model_name": "DescriptionStyleModel",
            "_view_count": null,
            "_view_module": "@jupyter-widgets/base",
            "_view_module_version": "1.2.0",
            "_view_name": "StyleView",
            "description_width": ""
          }
        },
        "eb38d44e2fba40c28086d4794772394b": {
          "model_module": "@jupyter-widgets/controls",
          "model_name": "HBoxModel",
          "model_module_version": "1.5.0",
          "state": {
            "_dom_classes": [],
            "_model_module": "@jupyter-widgets/controls",
            "_model_module_version": "1.5.0",
            "_model_name": "HBoxModel",
            "_view_count": null,
            "_view_module": "@jupyter-widgets/controls",
            "_view_module_version": "1.5.0",
            "_view_name": "HBoxView",
            "box_style": "",
            "children": [
              "IPY_MODEL_afdc91cad2d94b3a93db0136fe263a63",
              "IPY_MODEL_e0aaabac95cb4a68840b85743666670c",
              "IPY_MODEL_cd6268ee8b804b5aa78cd3fbbb2ad6c7"
            ],
            "layout": "IPY_MODEL_4da354992e05446392c32e2e49cc3841"
          }
        },
        "afdc91cad2d94b3a93db0136fe263a63": {
          "model_module": "@jupyter-widgets/controls",
          "model_name": "HTMLModel",
          "model_module_version": "1.5.0",
          "state": {
            "_dom_classes": [],
            "_model_module": "@jupyter-widgets/controls",
            "_model_module_version": "1.5.0",
            "_model_name": "HTMLModel",
            "_view_count": null,
            "_view_module": "@jupyter-widgets/controls",
            "_view_module_version": "1.5.0",
            "_view_name": "HTMLView",
            "description": "",
            "description_tooltip": null,
            "layout": "IPY_MODEL_aa9ece406f5748409a67dd0cc2bf4ea6",
            "placeholder": "​",
            "style": "IPY_MODEL_5c444eb2b4044434864ee249ecb46592",
            "value": "model.safetensors: 100%"
          }
        },
        "e0aaabac95cb4a68840b85743666670c": {
          "model_module": "@jupyter-widgets/controls",
          "model_name": "FloatProgressModel",
          "model_module_version": "1.5.0",
          "state": {
            "_dom_classes": [],
            "_model_module": "@jupyter-widgets/controls",
            "_model_module_version": "1.5.0",
            "_model_name": "FloatProgressModel",
            "_view_count": null,
            "_view_module": "@jupyter-widgets/controls",
            "_view_module_version": "1.5.0",
            "_view_name": "ProgressView",
            "bar_style": "success",
            "description": "",
            "description_tooltip": null,
            "layout": "IPY_MODEL_d8603cf2b0744a3b9b47d5301ce721b6",
            "max": 267832558,
            "min": 0,
            "orientation": "horizontal",
            "style": "IPY_MODEL_54a0253ed3ba4d99b56c07707f7679e9",
            "value": 267832558
          }
        },
        "cd6268ee8b804b5aa78cd3fbbb2ad6c7": {
          "model_module": "@jupyter-widgets/controls",
          "model_name": "HTMLModel",
          "model_module_version": "1.5.0",
          "state": {
            "_dom_classes": [],
            "_model_module": "@jupyter-widgets/controls",
            "_model_module_version": "1.5.0",
            "_model_name": "HTMLModel",
            "_view_count": null,
            "_view_module": "@jupyter-widgets/controls",
            "_view_module_version": "1.5.0",
            "_view_name": "HTMLView",
            "description": "",
            "description_tooltip": null,
            "layout": "IPY_MODEL_695e9db090454b22bc0fc919035035bb",
            "placeholder": "​",
            "style": "IPY_MODEL_315587b874014aad9294ba77e795affe",
            "value": " 268M/268M [00:03&lt;00:00, 27.8MB/s]"
          }
        },
        "4da354992e05446392c32e2e49cc3841": {
          "model_module": "@jupyter-widgets/base",
          "model_name": "LayoutModel",
          "model_module_version": "1.2.0",
          "state": {
            "_model_module": "@jupyter-widgets/base",
            "_model_module_version": "1.2.0",
            "_model_name": "LayoutModel",
            "_view_count": null,
            "_view_module": "@jupyter-widgets/base",
            "_view_module_version": "1.2.0",
            "_view_name": "LayoutView",
            "align_content": null,
            "align_items": null,
            "align_self": null,
            "border": null,
            "bottom": null,
            "display": null,
            "flex": null,
            "flex_flow": null,
            "grid_area": null,
            "grid_auto_columns": null,
            "grid_auto_flow": null,
            "grid_auto_rows": null,
            "grid_column": null,
            "grid_gap": null,
            "grid_row": null,
            "grid_template_areas": null,
            "grid_template_columns": null,
            "grid_template_rows": null,
            "height": null,
            "justify_content": null,
            "justify_items": null,
            "left": null,
            "margin": null,
            "max_height": null,
            "max_width": null,
            "min_height": null,
            "min_width": null,
            "object_fit": null,
            "object_position": null,
            "order": null,
            "overflow": null,
            "overflow_x": null,
            "overflow_y": null,
            "padding": null,
            "right": null,
            "top": null,
            "visibility": null,
            "width": null
          }
        },
        "aa9ece406f5748409a67dd0cc2bf4ea6": {
          "model_module": "@jupyter-widgets/base",
          "model_name": "LayoutModel",
          "model_module_version": "1.2.0",
          "state": {
            "_model_module": "@jupyter-widgets/base",
            "_model_module_version": "1.2.0",
            "_model_name": "LayoutModel",
            "_view_count": null,
            "_view_module": "@jupyter-widgets/base",
            "_view_module_version": "1.2.0",
            "_view_name": "LayoutView",
            "align_content": null,
            "align_items": null,
            "align_self": null,
            "border": null,
            "bottom": null,
            "display": null,
            "flex": null,
            "flex_flow": null,
            "grid_area": null,
            "grid_auto_columns": null,
            "grid_auto_flow": null,
            "grid_auto_rows": null,
            "grid_column": null,
            "grid_gap": null,
            "grid_row": null,
            "grid_template_areas": null,
            "grid_template_columns": null,
            "grid_template_rows": null,
            "height": null,
            "justify_content": null,
            "justify_items": null,
            "left": null,
            "margin": null,
            "max_height": null,
            "max_width": null,
            "min_height": null,
            "min_width": null,
            "object_fit": null,
            "object_position": null,
            "order": null,
            "overflow": null,
            "overflow_x": null,
            "overflow_y": null,
            "padding": null,
            "right": null,
            "top": null,
            "visibility": null,
            "width": null
          }
        },
        "5c444eb2b4044434864ee249ecb46592": {
          "model_module": "@jupyter-widgets/controls",
          "model_name": "DescriptionStyleModel",
          "model_module_version": "1.5.0",
          "state": {
            "_model_module": "@jupyter-widgets/controls",
            "_model_module_version": "1.5.0",
            "_model_name": "DescriptionStyleModel",
            "_view_count": null,
            "_view_module": "@jupyter-widgets/base",
            "_view_module_version": "1.2.0",
            "_view_name": "StyleView",
            "description_width": ""
          }
        },
        "d8603cf2b0744a3b9b47d5301ce721b6": {
          "model_module": "@jupyter-widgets/base",
          "model_name": "LayoutModel",
          "model_module_version": "1.2.0",
          "state": {
            "_model_module": "@jupyter-widgets/base",
            "_model_module_version": "1.2.0",
            "_model_name": "LayoutModel",
            "_view_count": null,
            "_view_module": "@jupyter-widgets/base",
            "_view_module_version": "1.2.0",
            "_view_name": "LayoutView",
            "align_content": null,
            "align_items": null,
            "align_self": null,
            "border": null,
            "bottom": null,
            "display": null,
            "flex": null,
            "flex_flow": null,
            "grid_area": null,
            "grid_auto_columns": null,
            "grid_auto_flow": null,
            "grid_auto_rows": null,
            "grid_column": null,
            "grid_gap": null,
            "grid_row": null,
            "grid_template_areas": null,
            "grid_template_columns": null,
            "grid_template_rows": null,
            "height": null,
            "justify_content": null,
            "justify_items": null,
            "left": null,
            "margin": null,
            "max_height": null,
            "max_width": null,
            "min_height": null,
            "min_width": null,
            "object_fit": null,
            "object_position": null,
            "order": null,
            "overflow": null,
            "overflow_x": null,
            "overflow_y": null,
            "padding": null,
            "right": null,
            "top": null,
            "visibility": null,
            "width": null
          }
        },
        "54a0253ed3ba4d99b56c07707f7679e9": {
          "model_module": "@jupyter-widgets/controls",
          "model_name": "ProgressStyleModel",
          "model_module_version": "1.5.0",
          "state": {
            "_model_module": "@jupyter-widgets/controls",
            "_model_module_version": "1.5.0",
            "_model_name": "ProgressStyleModel",
            "_view_count": null,
            "_view_module": "@jupyter-widgets/base",
            "_view_module_version": "1.2.0",
            "_view_name": "StyleView",
            "bar_color": null,
            "description_width": ""
          }
        },
        "695e9db090454b22bc0fc919035035bb": {
          "model_module": "@jupyter-widgets/base",
          "model_name": "LayoutModel",
          "model_module_version": "1.2.0",
          "state": {
            "_model_module": "@jupyter-widgets/base",
            "_model_module_version": "1.2.0",
            "_model_name": "LayoutModel",
            "_view_count": null,
            "_view_module": "@jupyter-widgets/base",
            "_view_module_version": "1.2.0",
            "_view_name": "LayoutView",
            "align_content": null,
            "align_items": null,
            "align_self": null,
            "border": null,
            "bottom": null,
            "display": null,
            "flex": null,
            "flex_flow": null,
            "grid_area": null,
            "grid_auto_columns": null,
            "grid_auto_flow": null,
            "grid_auto_rows": null,
            "grid_column": null,
            "grid_gap": null,
            "grid_row": null,
            "grid_template_areas": null,
            "grid_template_columns": null,
            "grid_template_rows": null,
            "height": null,
            "justify_content": null,
            "justify_items": null,
            "left": null,
            "margin": null,
            "max_height": null,
            "max_width": null,
            "min_height": null,
            "min_width": null,
            "object_fit": null,
            "object_position": null,
            "order": null,
            "overflow": null,
            "overflow_x": null,
            "overflow_y": null,
            "padding": null,
            "right": null,
            "top": null,
            "visibility": null,
            "width": null
          }
        },
        "315587b874014aad9294ba77e795affe": {
          "model_module": "@jupyter-widgets/controls",
          "model_name": "DescriptionStyleModel",
          "model_module_version": "1.5.0",
          "state": {
            "_model_module": "@jupyter-widgets/controls",
            "_model_module_version": "1.5.0",
            "_model_name": "DescriptionStyleModel",
            "_view_count": null,
            "_view_module": "@jupyter-widgets/base",
            "_view_module_version": "1.2.0",
            "_view_name": "StyleView",
            "description_width": ""
          }
        },
        "1a24b18ac84a42ee839a00205725e8a3": {
          "model_module": "@jupyter-widgets/controls",
          "model_name": "HBoxModel",
          "model_module_version": "1.5.0",
          "state": {
            "_dom_classes": [],
            "_model_module": "@jupyter-widgets/controls",
            "_model_module_version": "1.5.0",
            "_model_name": "HBoxModel",
            "_view_count": null,
            "_view_module": "@jupyter-widgets/controls",
            "_view_module_version": "1.5.0",
            "_view_name": "HBoxView",
            "box_style": "",
            "children": [
              "IPY_MODEL_93569ab96d6d4431befaea6e57f152f1",
              "IPY_MODEL_168696038ed3417f9fd8c2d94fe0fb7f",
              "IPY_MODEL_4eda4ecd483a42b6b74cda592082176d"
            ],
            "layout": "IPY_MODEL_19bdb45b9adc4d5bac5b1973e896acb9"
          }
        },
        "93569ab96d6d4431befaea6e57f152f1": {
          "model_module": "@jupyter-widgets/controls",
          "model_name": "HTMLModel",
          "model_module_version": "1.5.0",
          "state": {
            "_dom_classes": [],
            "_model_module": "@jupyter-widgets/controls",
            "_model_module_version": "1.5.0",
            "_model_name": "HTMLModel",
            "_view_count": null,
            "_view_module": "@jupyter-widgets/controls",
            "_view_module_version": "1.5.0",
            "_view_name": "HTMLView",
            "description": "",
            "description_tooltip": null,
            "layout": "IPY_MODEL_ab8800727ebe491591d488704ebf4f63",
            "placeholder": "​",
            "style": "IPY_MODEL_97fd226ff1b447328d0cb12ee443f7a8",
            "value": "config.json: 100%"
          }
        },
        "168696038ed3417f9fd8c2d94fe0fb7f": {
          "model_module": "@jupyter-widgets/controls",
          "model_name": "FloatProgressModel",
          "model_module_version": "1.5.0",
          "state": {
            "_dom_classes": [],
            "_model_module": "@jupyter-widgets/controls",
            "_model_module_version": "1.5.0",
            "_model_name": "FloatProgressModel",
            "_view_count": null,
            "_view_module": "@jupyter-widgets/controls",
            "_view_module_version": "1.5.0",
            "_view_name": "ProgressView",
            "bar_style": "success",
            "description": "",
            "description_tooltip": null,
            "layout": "IPY_MODEL_f30aa89b45e54e4ea12b89bc9a86ce68",
            "max": 570,
            "min": 0,
            "orientation": "horizontal",
            "style": "IPY_MODEL_c38b9a49139a4678860aabe4c1e1f0cd",
            "value": 570
          }
        },
        "4eda4ecd483a42b6b74cda592082176d": {
          "model_module": "@jupyter-widgets/controls",
          "model_name": "HTMLModel",
          "model_module_version": "1.5.0",
          "state": {
            "_dom_classes": [],
            "_model_module": "@jupyter-widgets/controls",
            "_model_module_version": "1.5.0",
            "_model_name": "HTMLModel",
            "_view_count": null,
            "_view_module": "@jupyter-widgets/controls",
            "_view_module_version": "1.5.0",
            "_view_name": "HTMLView",
            "description": "",
            "description_tooltip": null,
            "layout": "IPY_MODEL_cc05f85ff63b49468f2b472137ec3083",
            "placeholder": "​",
            "style": "IPY_MODEL_f987550a4e0b43ef967cea8902bab422",
            "value": " 570/570 [00:00&lt;00:00, 20.9kB/s]"
          }
        },
        "19bdb45b9adc4d5bac5b1973e896acb9": {
          "model_module": "@jupyter-widgets/base",
          "model_name": "LayoutModel",
          "model_module_version": "1.2.0",
          "state": {
            "_model_module": "@jupyter-widgets/base",
            "_model_module_version": "1.2.0",
            "_model_name": "LayoutModel",
            "_view_count": null,
            "_view_module": "@jupyter-widgets/base",
            "_view_module_version": "1.2.0",
            "_view_name": "LayoutView",
            "align_content": null,
            "align_items": null,
            "align_self": null,
            "border": null,
            "bottom": null,
            "display": null,
            "flex": null,
            "flex_flow": null,
            "grid_area": null,
            "grid_auto_columns": null,
            "grid_auto_flow": null,
            "grid_auto_rows": null,
            "grid_column": null,
            "grid_gap": null,
            "grid_row": null,
            "grid_template_areas": null,
            "grid_template_columns": null,
            "grid_template_rows": null,
            "height": null,
            "justify_content": null,
            "justify_items": null,
            "left": null,
            "margin": null,
            "max_height": null,
            "max_width": null,
            "min_height": null,
            "min_width": null,
            "object_fit": null,
            "object_position": null,
            "order": null,
            "overflow": null,
            "overflow_x": null,
            "overflow_y": null,
            "padding": null,
            "right": null,
            "top": null,
            "visibility": null,
            "width": null
          }
        },
        "ab8800727ebe491591d488704ebf4f63": {
          "model_module": "@jupyter-widgets/base",
          "model_name": "LayoutModel",
          "model_module_version": "1.2.0",
          "state": {
            "_model_module": "@jupyter-widgets/base",
            "_model_module_version": "1.2.0",
            "_model_name": "LayoutModel",
            "_view_count": null,
            "_view_module": "@jupyter-widgets/base",
            "_view_module_version": "1.2.0",
            "_view_name": "LayoutView",
            "align_content": null,
            "align_items": null,
            "align_self": null,
            "border": null,
            "bottom": null,
            "display": null,
            "flex": null,
            "flex_flow": null,
            "grid_area": null,
            "grid_auto_columns": null,
            "grid_auto_flow": null,
            "grid_auto_rows": null,
            "grid_column": null,
            "grid_gap": null,
            "grid_row": null,
            "grid_template_areas": null,
            "grid_template_columns": null,
            "grid_template_rows": null,
            "height": null,
            "justify_content": null,
            "justify_items": null,
            "left": null,
            "margin": null,
            "max_height": null,
            "max_width": null,
            "min_height": null,
            "min_width": null,
            "object_fit": null,
            "object_position": null,
            "order": null,
            "overflow": null,
            "overflow_x": null,
            "overflow_y": null,
            "padding": null,
            "right": null,
            "top": null,
            "visibility": null,
            "width": null
          }
        },
        "97fd226ff1b447328d0cb12ee443f7a8": {
          "model_module": "@jupyter-widgets/controls",
          "model_name": "DescriptionStyleModel",
          "model_module_version": "1.5.0",
          "state": {
            "_model_module": "@jupyter-widgets/controls",
            "_model_module_version": "1.5.0",
            "_model_name": "DescriptionStyleModel",
            "_view_count": null,
            "_view_module": "@jupyter-widgets/base",
            "_view_module_version": "1.2.0",
            "_view_name": "StyleView",
            "description_width": ""
          }
        },
        "f30aa89b45e54e4ea12b89bc9a86ce68": {
          "model_module": "@jupyter-widgets/base",
          "model_name": "LayoutModel",
          "model_module_version": "1.2.0",
          "state": {
            "_model_module": "@jupyter-widgets/base",
            "_model_module_version": "1.2.0",
            "_model_name": "LayoutModel",
            "_view_count": null,
            "_view_module": "@jupyter-widgets/base",
            "_view_module_version": "1.2.0",
            "_view_name": "LayoutView",
            "align_content": null,
            "align_items": null,
            "align_self": null,
            "border": null,
            "bottom": null,
            "display": null,
            "flex": null,
            "flex_flow": null,
            "grid_area": null,
            "grid_auto_columns": null,
            "grid_auto_flow": null,
            "grid_auto_rows": null,
            "grid_column": null,
            "grid_gap": null,
            "grid_row": null,
            "grid_template_areas": null,
            "grid_template_columns": null,
            "grid_template_rows": null,
            "height": null,
            "justify_content": null,
            "justify_items": null,
            "left": null,
            "margin": null,
            "max_height": null,
            "max_width": null,
            "min_height": null,
            "min_width": null,
            "object_fit": null,
            "object_position": null,
            "order": null,
            "overflow": null,
            "overflow_x": null,
            "overflow_y": null,
            "padding": null,
            "right": null,
            "top": null,
            "visibility": null,
            "width": null
          }
        },
        "c38b9a49139a4678860aabe4c1e1f0cd": {
          "model_module": "@jupyter-widgets/controls",
          "model_name": "ProgressStyleModel",
          "model_module_version": "1.5.0",
          "state": {
            "_model_module": "@jupyter-widgets/controls",
            "_model_module_version": "1.5.0",
            "_model_name": "ProgressStyleModel",
            "_view_count": null,
            "_view_module": "@jupyter-widgets/base",
            "_view_module_version": "1.2.0",
            "_view_name": "StyleView",
            "bar_color": null,
            "description_width": ""
          }
        },
        "cc05f85ff63b49468f2b472137ec3083": {
          "model_module": "@jupyter-widgets/base",
          "model_name": "LayoutModel",
          "model_module_version": "1.2.0",
          "state": {
            "_model_module": "@jupyter-widgets/base",
            "_model_module_version": "1.2.0",
            "_model_name": "LayoutModel",
            "_view_count": null,
            "_view_module": "@jupyter-widgets/base",
            "_view_module_version": "1.2.0",
            "_view_name": "LayoutView",
            "align_content": null,
            "align_items": null,
            "align_self": null,
            "border": null,
            "bottom": null,
            "display": null,
            "flex": null,
            "flex_flow": null,
            "grid_area": null,
            "grid_auto_columns": null,
            "grid_auto_flow": null,
            "grid_auto_rows": null,
            "grid_column": null,
            "grid_gap": null,
            "grid_row": null,
            "grid_template_areas": null,
            "grid_template_columns": null,
            "grid_template_rows": null,
            "height": null,
            "justify_content": null,
            "justify_items": null,
            "left": null,
            "margin": null,
            "max_height": null,
            "max_width": null,
            "min_height": null,
            "min_width": null,
            "object_fit": null,
            "object_position": null,
            "order": null,
            "overflow": null,
            "overflow_x": null,
            "overflow_y": null,
            "padding": null,
            "right": null,
            "top": null,
            "visibility": null,
            "width": null
          }
        },
        "f987550a4e0b43ef967cea8902bab422": {
          "model_module": "@jupyter-widgets/controls",
          "model_name": "DescriptionStyleModel",
          "model_module_version": "1.5.0",
          "state": {
            "_model_module": "@jupyter-widgets/controls",
            "_model_module_version": "1.5.0",
            "_model_name": "DescriptionStyleModel",
            "_view_count": null,
            "_view_module": "@jupyter-widgets/base",
            "_view_module_version": "1.2.0",
            "_view_name": "StyleView",
            "description_width": ""
          }
        },
        "ec24d4e6e25f4d57a0ff9b3dda538670": {
          "model_module": "@jupyter-widgets/controls",
          "model_name": "HBoxModel",
          "model_module_version": "1.5.0",
          "state": {
            "_dom_classes": [],
            "_model_module": "@jupyter-widgets/controls",
            "_model_module_version": "1.5.0",
            "_model_name": "HBoxModel",
            "_view_count": null,
            "_view_module": "@jupyter-widgets/controls",
            "_view_module_version": "1.5.0",
            "_view_name": "HBoxView",
            "box_style": "",
            "children": [
              "IPY_MODEL_cd564ec8eccd4cb3b151ded95ddf48f5",
              "IPY_MODEL_599b36ba8001406f869d51c9f92e6d35",
              "IPY_MODEL_d56ba13d157d45acad1a59c06f7a9df9"
            ],
            "layout": "IPY_MODEL_b78aa6950e8940c08ecd5d43e6f571db"
          }
        },
        "cd564ec8eccd4cb3b151ded95ddf48f5": {
          "model_module": "@jupyter-widgets/controls",
          "model_name": "HTMLModel",
          "model_module_version": "1.5.0",
          "state": {
            "_dom_classes": [],
            "_model_module": "@jupyter-widgets/controls",
            "_model_module_version": "1.5.0",
            "_model_name": "HTMLModel",
            "_view_count": null,
            "_view_module": "@jupyter-widgets/controls",
            "_view_module_version": "1.5.0",
            "_view_name": "HTMLView",
            "description": "",
            "description_tooltip": null,
            "layout": "IPY_MODEL_23312b3bfe424941b741193f02d2ca8f",
            "placeholder": "​",
            "style": "IPY_MODEL_69f114f76c09426da954b0cd5722c1c7",
            "value": "model.safetensors: 100%"
          }
        },
        "599b36ba8001406f869d51c9f92e6d35": {
          "model_module": "@jupyter-widgets/controls",
          "model_name": "FloatProgressModel",
          "model_module_version": "1.5.0",
          "state": {
            "_dom_classes": [],
            "_model_module": "@jupyter-widgets/controls",
            "_model_module_version": "1.5.0",
            "_model_name": "FloatProgressModel",
            "_view_count": null,
            "_view_module": "@jupyter-widgets/controls",
            "_view_module_version": "1.5.0",
            "_view_name": "ProgressView",
            "bar_style": "success",
            "description": "",
            "description_tooltip": null,
            "layout": "IPY_MODEL_bea1a70cb84e4176a544fed3c045d3d0",
            "max": 435755784,
            "min": 0,
            "orientation": "horizontal",
            "style": "IPY_MODEL_5079012add174d6ca7c341742e0f8e88",
            "value": 435755784
          }
        },
        "d56ba13d157d45acad1a59c06f7a9df9": {
          "model_module": "@jupyter-widgets/controls",
          "model_name": "HTMLModel",
          "model_module_version": "1.5.0",
          "state": {
            "_dom_classes": [],
            "_model_module": "@jupyter-widgets/controls",
            "_model_module_version": "1.5.0",
            "_model_name": "HTMLModel",
            "_view_count": null,
            "_view_module": "@jupyter-widgets/controls",
            "_view_module_version": "1.5.0",
            "_view_name": "HTMLView",
            "description": "",
            "description_tooltip": null,
            "layout": "IPY_MODEL_df445676566f4c509aec1a9d52ee0e70",
            "placeholder": "​",
            "style": "IPY_MODEL_2cebf57dde834650a5770241e1a848eb",
            "value": " 436M/436M [00:05&lt;00:00, 108MB/s]"
          }
        },
        "b78aa6950e8940c08ecd5d43e6f571db": {
          "model_module": "@jupyter-widgets/base",
          "model_name": "LayoutModel",
          "model_module_version": "1.2.0",
          "state": {
            "_model_module": "@jupyter-widgets/base",
            "_model_module_version": "1.2.0",
            "_model_name": "LayoutModel",
            "_view_count": null,
            "_view_module": "@jupyter-widgets/base",
            "_view_module_version": "1.2.0",
            "_view_name": "LayoutView",
            "align_content": null,
            "align_items": null,
            "align_self": null,
            "border": null,
            "bottom": null,
            "display": null,
            "flex": null,
            "flex_flow": null,
            "grid_area": null,
            "grid_auto_columns": null,
            "grid_auto_flow": null,
            "grid_auto_rows": null,
            "grid_column": null,
            "grid_gap": null,
            "grid_row": null,
            "grid_template_areas": null,
            "grid_template_columns": null,
            "grid_template_rows": null,
            "height": null,
            "justify_content": null,
            "justify_items": null,
            "left": null,
            "margin": null,
            "max_height": null,
            "max_width": null,
            "min_height": null,
            "min_width": null,
            "object_fit": null,
            "object_position": null,
            "order": null,
            "overflow": null,
            "overflow_x": null,
            "overflow_y": null,
            "padding": null,
            "right": null,
            "top": null,
            "visibility": null,
            "width": null
          }
        },
        "23312b3bfe424941b741193f02d2ca8f": {
          "model_module": "@jupyter-widgets/base",
          "model_name": "LayoutModel",
          "model_module_version": "1.2.0",
          "state": {
            "_model_module": "@jupyter-widgets/base",
            "_model_module_version": "1.2.0",
            "_model_name": "LayoutModel",
            "_view_count": null,
            "_view_module": "@jupyter-widgets/base",
            "_view_module_version": "1.2.0",
            "_view_name": "LayoutView",
            "align_content": null,
            "align_items": null,
            "align_self": null,
            "border": null,
            "bottom": null,
            "display": null,
            "flex": null,
            "flex_flow": null,
            "grid_area": null,
            "grid_auto_columns": null,
            "grid_auto_flow": null,
            "grid_auto_rows": null,
            "grid_column": null,
            "grid_gap": null,
            "grid_row": null,
            "grid_template_areas": null,
            "grid_template_columns": null,
            "grid_template_rows": null,
            "height": null,
            "justify_content": null,
            "justify_items": null,
            "left": null,
            "margin": null,
            "max_height": null,
            "max_width": null,
            "min_height": null,
            "min_width": null,
            "object_fit": null,
            "object_position": null,
            "order": null,
            "overflow": null,
            "overflow_x": null,
            "overflow_y": null,
            "padding": null,
            "right": null,
            "top": null,
            "visibility": null,
            "width": null
          }
        },
        "69f114f76c09426da954b0cd5722c1c7": {
          "model_module": "@jupyter-widgets/controls",
          "model_name": "DescriptionStyleModel",
          "model_module_version": "1.5.0",
          "state": {
            "_model_module": "@jupyter-widgets/controls",
            "_model_module_version": "1.5.0",
            "_model_name": "DescriptionStyleModel",
            "_view_count": null,
            "_view_module": "@jupyter-widgets/base",
            "_view_module_version": "1.2.0",
            "_view_name": "StyleView",
            "description_width": ""
          }
        },
        "bea1a70cb84e4176a544fed3c045d3d0": {
          "model_module": "@jupyter-widgets/base",
          "model_name": "LayoutModel",
          "model_module_version": "1.2.0",
          "state": {
            "_model_module": "@jupyter-widgets/base",
            "_model_module_version": "1.2.0",
            "_model_name": "LayoutModel",
            "_view_count": null,
            "_view_module": "@jupyter-widgets/base",
            "_view_module_version": "1.2.0",
            "_view_name": "LayoutView",
            "align_content": null,
            "align_items": null,
            "align_self": null,
            "border": null,
            "bottom": null,
            "display": null,
            "flex": null,
            "flex_flow": null,
            "grid_area": null,
            "grid_auto_columns": null,
            "grid_auto_flow": null,
            "grid_auto_rows": null,
            "grid_column": null,
            "grid_gap": null,
            "grid_row": null,
            "grid_template_areas": null,
            "grid_template_columns": null,
            "grid_template_rows": null,
            "height": null,
            "justify_content": null,
            "justify_items": null,
            "left": null,
            "margin": null,
            "max_height": null,
            "max_width": null,
            "min_height": null,
            "min_width": null,
            "object_fit": null,
            "object_position": null,
            "order": null,
            "overflow": null,
            "overflow_x": null,
            "overflow_y": null,
            "padding": null,
            "right": null,
            "top": null,
            "visibility": null,
            "width": null
          }
        },
        "5079012add174d6ca7c341742e0f8e88": {
          "model_module": "@jupyter-widgets/controls",
          "model_name": "ProgressStyleModel",
          "model_module_version": "1.5.0",
          "state": {
            "_model_module": "@jupyter-widgets/controls",
            "_model_module_version": "1.5.0",
            "_model_name": "ProgressStyleModel",
            "_view_count": null,
            "_view_module": "@jupyter-widgets/base",
            "_view_module_version": "1.2.0",
            "_view_name": "StyleView",
            "bar_color": null,
            "description_width": ""
          }
        },
        "df445676566f4c509aec1a9d52ee0e70": {
          "model_module": "@jupyter-widgets/base",
          "model_name": "LayoutModel",
          "model_module_version": "1.2.0",
          "state": {
            "_model_module": "@jupyter-widgets/base",
            "_model_module_version": "1.2.0",
            "_model_name": "LayoutModel",
            "_view_count": null,
            "_view_module": "@jupyter-widgets/base",
            "_view_module_version": "1.2.0",
            "_view_name": "LayoutView",
            "align_content": null,
            "align_items": null,
            "align_self": null,
            "border": null,
            "bottom": null,
            "display": null,
            "flex": null,
            "flex_flow": null,
            "grid_area": null,
            "grid_auto_columns": null,
            "grid_auto_flow": null,
            "grid_auto_rows": null,
            "grid_column": null,
            "grid_gap": null,
            "grid_row": null,
            "grid_template_areas": null,
            "grid_template_columns": null,
            "grid_template_rows": null,
            "height": null,
            "justify_content": null,
            "justify_items": null,
            "left": null,
            "margin": null,
            "max_height": null,
            "max_width": null,
            "min_height": null,
            "min_width": null,
            "object_fit": null,
            "object_position": null,
            "order": null,
            "overflow": null,
            "overflow_x": null,
            "overflow_y": null,
            "padding": null,
            "right": null,
            "top": null,
            "visibility": null,
            "width": null
          }
        },
        "2cebf57dde834650a5770241e1a848eb": {
          "model_module": "@jupyter-widgets/controls",
          "model_name": "DescriptionStyleModel",
          "model_module_version": "1.5.0",
          "state": {
            "_model_module": "@jupyter-widgets/controls",
            "_model_module_version": "1.5.0",
            "_model_name": "DescriptionStyleModel",
            "_view_count": null,
            "_view_module": "@jupyter-widgets/base",
            "_view_module_version": "1.2.0",
            "_view_name": "StyleView",
            "description_width": ""
          }
        }
      }
    }
  },
  "cells": [
    {
      "cell_type": "code",
      "execution_count": 6,
      "metadata": {
        "id": "tipah8JJkcY8"
      },
      "outputs": [],
      "source": [
        "import torch\n",
        "from transformers import AutoTokenizer"
      ]
    },
    {
      "cell_type": "markdown",
      "source": [
        "### Understanding how pipelines work"
      ],
      "metadata": {
        "id": "lkljSVGHnlXn"
      }
    },
    {
      "cell_type": "code",
      "source": [
        "from transformers import pipeline\n",
        "\n",
        "classifier= pipeline(\"sentiment-analysis\")\n",
        "\n",
        "classifier(\n",
        "            [\"I am a great guy with some anger problems\",\n",
        "            \"i am a healthy person with strict diet\"]\n",
        "           )\n"
      ],
      "metadata": {
        "colab": {
          "base_uri": "https://localhost:8080/",
          "height": 269,
          "referenced_widgets": [
            "6622edca8f4440df828bb89b5af39d4e",
            "ece6cf65ff24494e95ba32fd1fa5b179",
            "a720d70daa7845bcb50a591261a151b7",
            "995c1774c8244a0f9dc543b0bb82cb08",
            "af501f06edd14ac79a85e1de534f5799",
            "4002a88be4b7419c8ebd9db6d0ed84bf",
            "03e629f359be4327b12e339873013841",
            "1d3b09b3a81c4819846f8a530e91f068",
            "71cead01caaa4eaca2bbfa80c5b90797",
            "835ae6842f3d462e8cbd082f8ee5ebdc",
            "645e59be8c4f4127b41f02988da41963",
            "099aa3f4911c4a758a9d224c3c02e1ea",
            "8bc54f617b224adba668241f346610d3",
            "a50247d389d24c2f9c1bc412b7eb4694",
            "f103ff507e5f4e8cb30156af1155ccc8",
            "6a79547a23c14dc08cf8a0bd0f4073ba",
            "5d9d32dcdffb4229addd3113b0c4d450",
            "05db665647f74a4c92731a3f7fb64db0",
            "8bfa5e1f9e6e45fa9a34c16dbd3a51a6",
            "a5b2b8aa0b2d4369a27177d0d63278a4",
            "6ff2661efe4e4709a3f6ed7e34728f74",
            "34d7bcc575b64de8a414d68b0bdbdcf3",
            "3d253d3c22e745199b8236008cf5e0ce",
            "4b7dfd0ebea343d4a6bd3e19a8fee428",
            "f25ad6cfde0d4af598c3c91443041bf6",
            "fdb4fa6e88cc42d8817b5322b2e4918d",
            "03730978aa764a0ca23bb32600b03399",
            "a6c26b9c06ac406692920383a147154b",
            "985346773f6e43619b238b0c1eb1cd90",
            "fc613b6ba070478da4cc38e2696cb98b",
            "19341f395ce646dcabd1d6ccfd616ec1",
            "7b639c37c45b426c869aeff310441e00",
            "33ca09d642734065977d55da59883dbd",
            "c4b7224f161543dcb60cc656dcbfb18e",
            "737454902d244d7ba6bde8f561d07b98",
            "26d2c96bd308450a86a7bfba0d064ebb",
            "b87eb7d3574a447da287b8e9a2da4d2a",
            "61c7403537ee4e09a53e046445e81b34",
            "e463330d8dc44e84b0ce9031a4d3ce8f",
            "3587d428e0d74a29baeb04dc3fecc773",
            "66308e1df4f441b19f800984b68d2786",
            "9f5f75e3dbdd41da868a3a86709fb2a1",
            "dd1af36e5f074ce5861def5b862cd6d8",
            "47755d4e6b1a4e0385350b3bcb83327e"
          ]
        },
        "id": "QJ_9hwWNkqsl",
        "outputId": "f711e19d-fbde-4e90-b878-5b384d30289c"
      },
      "execution_count": 7,
      "outputs": [
        {
          "output_type": "stream",
          "name": "stderr",
          "text": [
            "No model was supplied, defaulted to distilbert/distilbert-base-uncased-finetuned-sst-2-english and revision af0f99b (https://huggingface.co/distilbert/distilbert-base-uncased-finetuned-sst-2-english).\n",
            "Using a pipeline without specifying a model name and revision in production is not recommended.\n",
            "/usr/local/lib/python3.10/dist-packages/huggingface_hub/file_download.py:1132: FutureWarning: `resume_download` is deprecated and will be removed in version 1.0.0. Downloads always resume when possible. If you want to force a new download, use `force_download=True`.\n",
            "  warnings.warn(\n"
          ]
        },
        {
          "output_type": "display_data",
          "data": {
            "text/plain": [
              "config.json:   0%|          | 0.00/629 [00:00<?, ?B/s]"
            ],
            "application/vnd.jupyter.widget-view+json": {
              "version_major": 2,
              "version_minor": 0,
              "model_id": "6622edca8f4440df828bb89b5af39d4e"
            }
          },
          "metadata": {}
        },
        {
          "output_type": "display_data",
          "data": {
            "text/plain": [
              "model.safetensors:   0%|          | 0.00/268M [00:00<?, ?B/s]"
            ],
            "application/vnd.jupyter.widget-view+json": {
              "version_major": 2,
              "version_minor": 0,
              "model_id": "099aa3f4911c4a758a9d224c3c02e1ea"
            }
          },
          "metadata": {}
        },
        {
          "output_type": "display_data",
          "data": {
            "text/plain": [
              "tokenizer_config.json:   0%|          | 0.00/48.0 [00:00<?, ?B/s]"
            ],
            "application/vnd.jupyter.widget-view+json": {
              "version_major": 2,
              "version_minor": 0,
              "model_id": "3d253d3c22e745199b8236008cf5e0ce"
            }
          },
          "metadata": {}
        },
        {
          "output_type": "display_data",
          "data": {
            "text/plain": [
              "vocab.txt:   0%|          | 0.00/232k [00:00<?, ?B/s]"
            ],
            "application/vnd.jupyter.widget-view+json": {
              "version_major": 2,
              "version_minor": 0,
              "model_id": "c4b7224f161543dcb60cc656dcbfb18e"
            }
          },
          "metadata": {}
        },
        {
          "output_type": "execute_result",
          "data": {
            "text/plain": [
              "[{'label': 'POSITIVE', 'score': 0.999092698097229},\n",
              " {'label': 'POSITIVE', 'score': 0.9991883635520935}]"
            ]
          },
          "metadata": {},
          "execution_count": 7
        }
      ]
    },
    {
      "cell_type": "markdown",
      "source": [
        "![image.png](data:image/png;base64,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)"
      ],
      "metadata": {
        "id": "f2orBjA5oZPr"
      }
    },
    {
      "cell_type": "markdown",
      "source": [
        "### Understanding Pre-processing with Tokenizer\n",
        "\n",
        "Like other neural networks, Transformer models can’t process raw text directly, so the first step of our pipeline is to convert the text inputs into numbers that the model can make sense of. To do this we use a `tokenizer`, which will be responsible for:\n",
        "\n",
        "1. Splitting the input into words, subwords, or symbols (like punctuation) that are called tokens\n",
        "\n",
        "2. Mapping each token to an integer\n",
        "\n",
        "3. Adding additional inputs that may be useful to the model"
      ],
      "metadata": {
        "id": "Zn_aS4DJofMC"
      }
    },
    {
      "cell_type": "markdown",
      "source": [
        "![image.png](data:image/png;base64,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)"
      ],
      "metadata": {
        "id": "R-1T0E5Kyxei"
      }
    },
    {
      "cell_type": "code",
      "source": [
        "from transformers import AutoTokenizer\n",
        "\n",
        "tokenizer= AutoTokenizer.from_pretrained(\"distilbert-base-uncased-finetuned-sst-2-english\")"
      ],
      "metadata": {
        "colab": {
          "base_uri": "https://localhost:8080/",
          "height": 168,
          "referenced_widgets": [
            "f0b30f4bd67f415ca9cf96ab0bc48db2",
            "a9a7c7b4f0a44554b7bb06166eaeedea",
            "b1798f2ddc0a4029b9be3be2e975e201",
            "8fa4201883f44c488f2ad2978cd33aba",
            "5e45bb807f8b44c3a0e8e8e4f4cb1d07",
            "a2f5223133064649ad1c945dadfbea7f",
            "254ffad7181d431f87638b313f9bd062",
            "eec8f207fcbb40f2af4828976d17bd4d",
            "23886f67739a4a1eafcb2ae55f024953",
            "9ef0d4bde9eb45a69b9170b6ec2d983c",
            "bd7b671b530145f89e679dc924db8ea3",
            "34fcf2e1e0324bed8f5efe9060b189b2",
            "9a2edef054984f618e1b0740c913b988",
            "a96dc514cd8e48d89a0d57f9f33dde6e",
            "67aca97e77b94e99834b2e2a203cad2f",
            "c5a0cacb89be416e9336f9828b153405",
            "a996214916634cb58e0a2729017ca165",
            "498f492bbf754599ba5c23ee147af2a7",
            "96911b8e309140198ffd2a190479702d",
            "a46d3ab0d778460ca00c98dc9336829d",
            "d215d79117c745c181dd469550c0e6b9",
            "1cffb5b5e34345b29e7539578412af2e",
            "9914f88e92084fb6a9afe5c048bb32c6",
            "03c4a0354c4143fabf7f9e6e479ed2f3",
            "d9dd5f775b774b1b9cd8d7986ed8d4ac",
            "81f25407b431490e9a082c854d08c2ee",
            "d3dfff3e9b28484da7f3c015b873b65a",
            "137976d2f9834d74941721c5ba036401",
            "91ae9a6c6739401da6db43fa4f1132c2",
            "c241c0ee1a1e4b6e82766d2b17c31130",
            "6336a553420c4c9f8b88fffeeaaa6d91",
            "c46c353051fd47179fb8bb8de3dbe9e4",
            "63ae895cdea542499b1c95c1002d3152"
          ]
        },
        "id": "B8C-lghGlgQI",
        "outputId": "07123e3a-8304-457e-87f9-3fa52e27e771"
      },
      "execution_count": 8,
      "outputs": [
        {
          "output_type": "display_data",
          "data": {
            "text/plain": [
              "tokenizer_config.json:   0%|          | 0.00/48.0 [00:00<?, ?B/s]"
            ],
            "application/vnd.jupyter.widget-view+json": {
              "version_major": 2,
              "version_minor": 0,
              "model_id": "f0b30f4bd67f415ca9cf96ab0bc48db2"
            }
          },
          "metadata": {}
        },
        {
          "output_type": "stream",
          "name": "stderr",
          "text": [
            "/usr/local/lib/python3.10/dist-packages/huggingface_hub/file_download.py:1132: FutureWarning: `resume_download` is deprecated and will be removed in version 1.0.0. Downloads always resume when possible. If you want to force a new download, use `force_download=True`.\n",
            "  warnings.warn(\n"
          ]
        },
        {
          "output_type": "display_data",
          "data": {
            "text/plain": [
              "config.json:   0%|          | 0.00/629 [00:00<?, ?B/s]"
            ],
            "application/vnd.jupyter.widget-view+json": {
              "version_major": 2,
              "version_minor": 0,
              "model_id": "34fcf2e1e0324bed8f5efe9060b189b2"
            }
          },
          "metadata": {}
        },
        {
          "output_type": "display_data",
          "data": {
            "text/plain": [
              "vocab.txt:   0%|          | 0.00/232k [00:00<?, ?B/s]"
            ],
            "application/vnd.jupyter.widget-view+json": {
              "version_major": 2,
              "version_minor": 0,
              "model_id": "9914f88e92084fb6a9afe5c048bb32c6"
            }
          },
          "metadata": {}
        }
      ]
    },
    {
      "cell_type": "markdown",
      "source": [
        "Transformer models only accept tensors as input. You can think of them as NumPy arrays instead. A NumPy array can be a scalar (0D), a vector (1D), a matrix (2D), or have more dimensions."
      ],
      "metadata": {
        "id": "xnYyd5Smp9D5"
      }
    },
    {
      "cell_type": "code",
      "source": [
        "input_sentence= [\"I am a great guy with some anger problems\",\n",
        "                  \"i am a healthy person with strict diet\"]\n",
        "\n",
        "inputs= tokenizer(input_sentence, padding=True, truncation=True, return_tensors=\"pt\")\n",
        "print(inputs)"
      ],
      "metadata": {
        "colab": {
          "base_uri": "https://localhost:8080/"
        },
        "id": "PjEF3Ci-pW7s",
        "outputId": "4833b79d-9faa-443d-fb81-00d28040f017"
      },
      "execution_count": 9,
      "outputs": [
        {
          "output_type": "stream",
          "name": "stdout",
          "text": [
            "{'input_ids': tensor([[ 101, 1045, 2572, 1037, 2307, 3124, 2007, 2070, 4963, 3471,  102],\n",
            "        [ 101, 1045, 2572, 1037, 7965, 2711, 2007, 9384, 8738,  102,    0]]), 'attention_mask': tensor([[1, 1, 1, 1, 1, 1, 1, 1, 1, 1, 1],\n",
            "        [1, 1, 1, 1, 1, 1, 1, 1, 1, 1, 0]])}\n"
          ]
        }
      ]
    },
    {
      "cell_type": "markdown",
      "source": [
        "We can download our pretrained model the same way we did with our tokenizer Transformers provides an AutoModel class which also has a from_pretrained() method:"
      ],
      "metadata": {
        "id": "JMcp90Z-qc7W"
      }
    },
    {
      "cell_type": "markdown",
      "source": [
        "### Model"
      ],
      "metadata": {
        "id": "m5_XPCM5y75N"
      }
    },
    {
      "cell_type": "markdown",
      "source": [
        "![image.png](data:image/png;base64,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)"
      ],
      "metadata": {
        "id": "qlwFT5u5zIZQ"
      }
    },
    {
      "cell_type": "code",
      "source": [
        "from transformers import AutoModel\n",
        "\n",
        "model= AutoModel.from_pretrained(\"distilbert-base-uncased-finetuned-sst-2-english\")"
      ],
      "metadata": {
        "colab": {
          "base_uri": "https://localhost:8080/",
          "height": 49,
          "referenced_widgets": [
            "eb38d44e2fba40c28086d4794772394b",
            "afdc91cad2d94b3a93db0136fe263a63",
            "e0aaabac95cb4a68840b85743666670c",
            "cd6268ee8b804b5aa78cd3fbbb2ad6c7",
            "4da354992e05446392c32e2e49cc3841",
            "aa9ece406f5748409a67dd0cc2bf4ea6",
            "5c444eb2b4044434864ee249ecb46592",
            "d8603cf2b0744a3b9b47d5301ce721b6",
            "54a0253ed3ba4d99b56c07707f7679e9",
            "695e9db090454b22bc0fc919035035bb",
            "315587b874014aad9294ba77e795affe"
          ]
        },
        "id": "-DofTu1PqIPt",
        "outputId": "77da56fe-a2bd-45bf-e461-853a180e67a1"
      },
      "execution_count": 10,
      "outputs": [
        {
          "output_type": "display_data",
          "data": {
            "text/plain": [
              "model.safetensors:   0%|          | 0.00/268M [00:00<?, ?B/s]"
            ],
            "application/vnd.jupyter.widget-view+json": {
              "version_major": 2,
              "version_minor": 0,
              "model_id": "eb38d44e2fba40c28086d4794772394b"
            }
          },
          "metadata": {}
        }
      ]
    },
    {
      "cell_type": "code",
      "source": [
        "print(model)"
      ],
      "metadata": {
        "colab": {
          "base_uri": "https://localhost:8080/"
        },
        "id": "Uvtk60arqokP",
        "outputId": "051b8bde-9ed8-4b15-a246-f51fde5cc518"
      },
      "execution_count": 11,
      "outputs": [
        {
          "output_type": "stream",
          "name": "stdout",
          "text": [
            "DistilBertModel(\n",
            "  (embeddings): Embeddings(\n",
            "    (word_embeddings): Embedding(30522, 768, padding_idx=0)\n",
            "    (position_embeddings): Embedding(512, 768)\n",
            "    (LayerNorm): LayerNorm((768,), eps=1e-12, elementwise_affine=True)\n",
            "    (dropout): Dropout(p=0.1, inplace=False)\n",
            "  )\n",
            "  (transformer): Transformer(\n",
            "    (layer): ModuleList(\n",
            "      (0-5): 6 x TransformerBlock(\n",
            "        (attention): MultiHeadSelfAttention(\n",
            "          (dropout): Dropout(p=0.1, inplace=False)\n",
            "          (q_lin): Linear(in_features=768, out_features=768, bias=True)\n",
            "          (k_lin): Linear(in_features=768, out_features=768, bias=True)\n",
            "          (v_lin): Linear(in_features=768, out_features=768, bias=True)\n",
            "          (out_lin): Linear(in_features=768, out_features=768, bias=True)\n",
            "        )\n",
            "        (sa_layer_norm): LayerNorm((768,), eps=1e-12, elementwise_affine=True)\n",
            "        (ffn): FFN(\n",
            "          (dropout): Dropout(p=0.1, inplace=False)\n",
            "          (lin1): Linear(in_features=768, out_features=3072, bias=True)\n",
            "          (lin2): Linear(in_features=3072, out_features=768, bias=True)\n",
            "          (activation): GELUActivation()\n",
            "        )\n",
            "        (output_layer_norm): LayerNorm((768,), eps=1e-12, elementwise_affine=True)\n",
            "      )\n",
            "    )\n",
            "  )\n",
            ")\n"
          ]
        }
      ]
    },
    {
      "cell_type": "markdown",
      "source": [
        "The vector output by the Transformer module is usually large. It generally has three dimensions:\n",
        "\n",
        "**Batch size:** The number of sequences processed at a time (2 in our example).\n",
        "\n",
        "**Sequence length:** The length of the numerical representation of the sequence (11 in our example).\n",
        "\n",
        "**Hidden size:** The vector dimension of each model input."
      ],
      "metadata": {
        "id": "xdEIuzDYxnQQ"
      }
    },
    {
      "cell_type": "code",
      "source": [
        "output= model(**inputs)\n",
        "print(output.last_hidden_state.shape)"
      ],
      "metadata": {
        "colab": {
          "base_uri": "https://localhost:8080/"
        },
        "id": "pw-Fo2N8xL9X",
        "outputId": "a8a18ba6-9427-422f-959b-8743593da89d"
      },
      "execution_count": 12,
      "outputs": [
        {
          "output_type": "stream",
          "name": "stdout",
          "text": [
            "torch.Size([2, 11, 768])\n"
          ]
        }
      ]
    },
    {
      "cell_type": "code",
      "source": [
        "output.last_hidden_state"
      ],
      "metadata": {
        "colab": {
          "base_uri": "https://localhost:8080/"
        },
        "id": "jXK7d-iFyKIn",
        "outputId": "317ed3d4-9da1-4a85-e0e8-6eceb9dadf1e"
      },
      "execution_count": 14,
      "outputs": [
        {
          "output_type": "execute_result",
          "data": {
            "text/plain": [
              "tensor([[[ 0.2694,  0.1559,  0.3139,  ...,  0.2475,  1.0221, -0.4286],\n",
              "         [ 0.7489,  0.2976,  0.0599,  ...,  0.2472,  1.2214, -0.3517],\n",
              "         [ 0.6442,  0.3217,  0.0638,  ...,  0.1651,  1.1428, -0.2804],\n",
              "         ...,\n",
              "         [-0.2555,  0.4992, -0.0668,  ..., -0.0414,  0.4044, -0.3487],\n",
              "         [-0.8595,  0.5131,  0.3112,  ..., -0.1829, -0.0649, -0.5430],\n",
              "         [ 0.8673,  0.0725,  0.2542,  ...,  0.5090,  0.3350, -0.8177]],\n",
              "\n",
              "        [[ 0.6690, -0.1197,  0.3275,  ...,  0.2884,  0.8382, -0.0071],\n",
              "         [ 1.0073, -0.0230,  0.2908,  ...,  0.4395,  0.9659,  0.0899],\n",
              "         [ 0.7873, -0.0019,  0.2906,  ...,  0.4492,  0.8410,  0.1316],\n",
              "         ...,\n",
              "         [ 0.6517, -0.0373,  0.2384,  ...,  0.1987,  0.5034, -0.1461],\n",
              "         [ 1.2059, -0.1382,  0.5495,  ...,  0.7892,  0.3035, -0.7023],\n",
              "         [ 0.5299, -0.4172,  0.4003,  ...,  0.2306,  0.3519,  0.0834]]],\n",
              "       grad_fn=<NativeLayerNormBackward0>)"
            ]
          },
          "metadata": {},
          "execution_count": 14
        }
      ]
    },
    {
      "cell_type": "markdown",
      "source": [
        "For our example, we will need a model with a sequence classification head (to be able to classify the sentences as positive or negative). So, we won’t actually use the AutoModel class, but AutoModelForSequenceClassification:"
      ],
      "metadata": {
        "id": "1UGrRRwlzmcV"
      }
    },
    {
      "cell_type": "code",
      "source": [
        "from transformers import AutoModelForSequenceClassification\n",
        "\n",
        "model= AutoModelForSequenceClassification.from_pretrained(\"distilbert-base-uncased-finetuned-sst-2-english\")\n",
        "outputs = model(**inputs)"
      ],
      "metadata": {
        "id": "hemZN0RwyN0l"
      },
      "execution_count": 15,
      "outputs": []
    },
    {
      "cell_type": "code",
      "source": [
        "outputs.logits.shape"
      ],
      "metadata": {
        "colab": {
          "base_uri": "https://localhost:8080/"
        },
        "id": "UmqfkSXtz1Ep",
        "outputId": "55bb840e-696e-4ae1-fa1a-fdbc57f83fb6"
      },
      "execution_count": 16,
      "outputs": [
        {
          "output_type": "execute_result",
          "data": {
            "text/plain": [
              "torch.Size([2, 2])"
            ]
          },
          "metadata": {},
          "execution_count": 16
        }
      ]
    },
    {
      "cell_type": "code",
      "source": [
        "outputs.logits"
      ],
      "metadata": {
        "colab": {
          "base_uri": "https://localhost:8080/"
        },
        "id": "5Bxxxwz8z8X8",
        "outputId": "557774ef-3294-4694-cb31-13d3ed9f4594"
      },
      "execution_count": 17,
      "outputs": [
        {
          "output_type": "execute_result",
          "data": {
            "text/plain": [
              "tensor([[-3.3904,  3.6138],\n",
              "        [-3.4804,  3.6353]], grad_fn=<AddmmBackward0>)"
            ]
          },
          "metadata": {},
          "execution_count": 17
        }
      ]
    },
    {
      "cell_type": "markdown",
      "source": [
        "### Postprocessing the output"
      ],
      "metadata": {
        "id": "UMJFL9Z_0fP2"
      }
    },
    {
      "cell_type": "code",
      "source": [
        "import torch\n",
        "\n",
        "prediction= torch.nn.functional.softmax(outputs.logits, dim=-1)\n",
        "print(prediction)"
      ],
      "metadata": {
        "colab": {
          "base_uri": "https://localhost:8080/"
        },
        "id": "j2vpHG-C0A3E",
        "outputId": "fb061249-7ed0-4d8c-9184-69a02dc1090f"
      },
      "execution_count": 20,
      "outputs": [
        {
          "output_type": "stream",
          "name": "stdout",
          "text": [
            "tensor([[9.0729e-04, 9.9909e-01],\n",
            "        [8.1159e-04, 9.9919e-01]], grad_fn=<SoftmaxBackward0>)\n"
          ]
        }
      ]
    },
    {
      "cell_type": "code",
      "source": [
        "model.config.id2label"
      ],
      "metadata": {
        "colab": {
          "base_uri": "https://localhost:8080/"
        },
        "id": "kMOR803r02f2",
        "outputId": "c64ce83b-c225-4d26-e2cd-5d5d99bff19c"
      },
      "execution_count": 21,
      "outputs": [
        {
          "output_type": "execute_result",
          "data": {
            "text/plain": [
              "{0: 'NEGATIVE', 1: 'POSITIVE'}"
            ]
          },
          "metadata": {},
          "execution_count": 21
        }
      ]
    },
    {
      "cell_type": "markdown",
      "source": [
        "# Models\n",
        "\n",
        "AutoModel class, which is handy when you want to instantiate any model from a checkpoint.\n",
        "\n",
        " if you know the type of model you want to use, you can use the class that defines its architecture directly"
      ],
      "metadata": {
        "id": "mX-pjE-x3_Eo"
      }
    },
    {
      "cell_type": "code",
      "source": [
        "from transformers import BertConfig, BertModel\n",
        "\n",
        "config= BertConfig()\n",
        "model= BertModel(config)\n",
        "\n",
        "print(config)\n",
        "print(model)\n"
      ],
      "metadata": {
        "colab": {
          "base_uri": "https://localhost:8080/"
        },
        "id": "Bd6kJJZy1C19",
        "outputId": "6616167d-17ca-4a32-d680-4a6e40ed024c"
      },
      "execution_count": 22,
      "outputs": [
        {
          "output_type": "stream",
          "name": "stdout",
          "text": [
            "BertConfig {\n",
            "  \"attention_probs_dropout_prob\": 0.1,\n",
            "  \"classifier_dropout\": null,\n",
            "  \"hidden_act\": \"gelu\",\n",
            "  \"hidden_dropout_prob\": 0.1,\n",
            "  \"hidden_size\": 768,\n",
            "  \"initializer_range\": 0.02,\n",
            "  \"intermediate_size\": 3072,\n",
            "  \"layer_norm_eps\": 1e-12,\n",
            "  \"max_position_embeddings\": 512,\n",
            "  \"model_type\": \"bert\",\n",
            "  \"num_attention_heads\": 12,\n",
            "  \"num_hidden_layers\": 12,\n",
            "  \"pad_token_id\": 0,\n",
            "  \"position_embedding_type\": \"absolute\",\n",
            "  \"transformers_version\": \"4.41.2\",\n",
            "  \"type_vocab_size\": 2,\n",
            "  \"use_cache\": true,\n",
            "  \"vocab_size\": 30522\n",
            "}\n",
            "\n",
            "BertModel(\n",
            "  (embeddings): BertEmbeddings(\n",
            "    (word_embeddings): Embedding(30522, 768, padding_idx=0)\n",
            "    (position_embeddings): Embedding(512, 768)\n",
            "    (token_type_embeddings): Embedding(2, 768)\n",
            "    (LayerNorm): LayerNorm((768,), eps=1e-12, elementwise_affine=True)\n",
            "    (dropout): Dropout(p=0.1, inplace=False)\n",
            "  )\n",
            "  (encoder): BertEncoder(\n",
            "    (layer): ModuleList(\n",
            "      (0-11): 12 x BertLayer(\n",
            "        (attention): BertAttention(\n",
            "          (self): BertSdpaSelfAttention(\n",
            "            (query): Linear(in_features=768, out_features=768, bias=True)\n",
            "            (key): Linear(in_features=768, out_features=768, bias=True)\n",
            "            (value): Linear(in_features=768, out_features=768, bias=True)\n",
            "            (dropout): Dropout(p=0.1, inplace=False)\n",
            "          )\n",
            "          (output): BertSelfOutput(\n",
            "            (dense): Linear(in_features=768, out_features=768, bias=True)\n",
            "            (LayerNorm): LayerNorm((768,), eps=1e-12, elementwise_affine=True)\n",
            "            (dropout): Dropout(p=0.1, inplace=False)\n",
            "          )\n",
            "        )\n",
            "        (intermediate): BertIntermediate(\n",
            "          (dense): Linear(in_features=768, out_features=3072, bias=True)\n",
            "          (intermediate_act_fn): GELUActivation()\n",
            "        )\n",
            "        (output): BertOutput(\n",
            "          (dense): Linear(in_features=3072, out_features=768, bias=True)\n",
            "          (LayerNorm): LayerNorm((768,), eps=1e-12, elementwise_affine=True)\n",
            "          (dropout): Dropout(p=0.1, inplace=False)\n",
            "        )\n",
            "      )\n",
            "    )\n",
            "  )\n",
            "  (pooler): BertPooler(\n",
            "    (dense): Linear(in_features=768, out_features=768, bias=True)\n",
            "    (activation): Tanh()\n",
            "  )\n",
            ")\n"
          ]
        }
      ]
    },
    {
      "cell_type": "markdown",
      "source": [
        "Loading a Transformer model that is already trained is simple — we can do this using the from_pretrained() method:"
      ],
      "metadata": {
        "id": "LynTbH6U76np"
      }
    },
    {
      "cell_type": "code",
      "source": [
        "model= BertModel.from_pretrained(\"bert-base-cased\")\n",
        "print(model)"
      ],
      "metadata": {
        "colab": {
          "base_uri": "https://localhost:8080/",
          "height": 793,
          "referenced_widgets": [
            "1a24b18ac84a42ee839a00205725e8a3",
            "93569ab96d6d4431befaea6e57f152f1",
            "168696038ed3417f9fd8c2d94fe0fb7f",
            "4eda4ecd483a42b6b74cda592082176d",
            "19bdb45b9adc4d5bac5b1973e896acb9",
            "ab8800727ebe491591d488704ebf4f63",
            "97fd226ff1b447328d0cb12ee443f7a8",
            "f30aa89b45e54e4ea12b89bc9a86ce68",
            "c38b9a49139a4678860aabe4c1e1f0cd",
            "cc05f85ff63b49468f2b472137ec3083",
            "f987550a4e0b43ef967cea8902bab422",
            "ec24d4e6e25f4d57a0ff9b3dda538670",
            "cd564ec8eccd4cb3b151ded95ddf48f5",
            "599b36ba8001406f869d51c9f92e6d35",
            "d56ba13d157d45acad1a59c06f7a9df9",
            "b78aa6950e8940c08ecd5d43e6f571db",
            "23312b3bfe424941b741193f02d2ca8f",
            "69f114f76c09426da954b0cd5722c1c7",
            "bea1a70cb84e4176a544fed3c045d3d0",
            "5079012add174d6ca7c341742e0f8e88",
            "df445676566f4c509aec1a9d52ee0e70",
            "2cebf57dde834650a5770241e1a848eb"
          ]
        },
        "id": "0VZAVBSc5XRi",
        "outputId": "f23e1fb0-583c-4063-fc38-6c6dfe65d2cb"
      },
      "execution_count": 23,
      "outputs": [
        {
          "output_type": "display_data",
          "data": {
            "text/plain": [
              "config.json:   0%|          | 0.00/570 [00:00<?, ?B/s]"
            ],
            "application/vnd.jupyter.widget-view+json": {
              "version_major": 2,
              "version_minor": 0,
              "model_id": "1a24b18ac84a42ee839a00205725e8a3"
            }
          },
          "metadata": {}
        },
        {
          "output_type": "display_data",
          "data": {
            "text/plain": [
              "model.safetensors:   0%|          | 0.00/436M [00:00<?, ?B/s]"
            ],
            "application/vnd.jupyter.widget-view+json": {
              "version_major": 2,
              "version_minor": 0,
              "model_id": "ec24d4e6e25f4d57a0ff9b3dda538670"
            }
          },
          "metadata": {}
        },
        {
          "output_type": "stream",
          "name": "stdout",
          "text": [
            "BertModel(\n",
            "  (embeddings): BertEmbeddings(\n",
            "    (word_embeddings): Embedding(28996, 768, padding_idx=0)\n",
            "    (position_embeddings): Embedding(512, 768)\n",
            "    (token_type_embeddings): Embedding(2, 768)\n",
            "    (LayerNorm): LayerNorm((768,), eps=1e-12, elementwise_affine=True)\n",
            "    (dropout): Dropout(p=0.1, inplace=False)\n",
            "  )\n",
            "  (encoder): BertEncoder(\n",
            "    (layer): ModuleList(\n",
            "      (0-11): 12 x BertLayer(\n",
            "        (attention): BertAttention(\n",
            "          (self): BertSdpaSelfAttention(\n",
            "            (query): Linear(in_features=768, out_features=768, bias=True)\n",
            "            (key): Linear(in_features=768, out_features=768, bias=True)\n",
            "            (value): Linear(in_features=768, out_features=768, bias=True)\n",
            "            (dropout): Dropout(p=0.1, inplace=False)\n",
            "          )\n",
            "          (output): BertSelfOutput(\n",
            "            (dense): Linear(in_features=768, out_features=768, bias=True)\n",
            "            (LayerNorm): LayerNorm((768,), eps=1e-12, elementwise_affine=True)\n",
            "            (dropout): Dropout(p=0.1, inplace=False)\n",
            "          )\n",
            "        )\n",
            "        (intermediate): BertIntermediate(\n",
            "          (dense): Linear(in_features=768, out_features=3072, bias=True)\n",
            "          (intermediate_act_fn): GELUActivation()\n",
            "        )\n",
            "        (output): BertOutput(\n",
            "          (dense): Linear(in_features=3072, out_features=768, bias=True)\n",
            "          (LayerNorm): LayerNorm((768,), eps=1e-12, elementwise_affine=True)\n",
            "          (dropout): Dropout(p=0.1, inplace=False)\n",
            "        )\n",
            "      )\n",
            "    )\n",
            "  )\n",
            "  (pooler): BertPooler(\n",
            "    (dense): Linear(in_features=768, out_features=768, bias=True)\n",
            "    (activation): Tanh()\n",
            "  )\n",
            ")\n"
          ]
        }
      ]
    },
    {
      "cell_type": "code",
      "source": [
        "model.save_pretrained(\"directory_on_my_computer\")"
      ],
      "metadata": {
        "id": "4RlPsIIe8d-N"
      },
      "execution_count": 24,
      "outputs": []
    },
    {
      "cell_type": "markdown",
      "source": [
        "### Using a Transformer model for inference"
      ],
      "metadata": {
        "id": "aQNbF5k99D8G"
      }
    },
    {
      "cell_type": "code",
      "source": [
        "tokenizer= AutoTokenizer.from_pretrained(\"distilbert-base-uncased-finetuned-sst-2-english\")"
      ],
      "metadata": {
        "id": "OWNmj8O98xpx"
      },
      "execution_count": 25,
      "outputs": []
    },
    {
      "cell_type": "code",
      "source": [
        "sequences = [\"Hello!\", \"Cool.\", \"Nice!\"]\n",
        "\n",
        "tokens= tokenizer(sequences, padding=True, truncation=True, return_tensors=\"pt\")\n",
        "print(tokens)"
      ],
      "metadata": {
        "colab": {
          "base_uri": "https://localhost:8080/"
        },
        "id": "O0VYTOek9Yi-",
        "outputId": "474ceae2-b9a6-4f6b-ea92-055facea1e70"
      },
      "execution_count": 26,
      "outputs": [
        {
          "output_type": "stream",
          "name": "stdout",
          "text": [
            "{'input_ids': tensor([[ 101, 7592,  999,  102],\n",
            "        [ 101, 4658, 1012,  102],\n",
            "        [ 101, 3835,  999,  102]]), 'attention_mask': tensor([[1, 1, 1, 1],\n",
            "        [1, 1, 1, 1],\n",
            "        [1, 1, 1, 1]])}\n"
          ]
        }
      ]
    },
    {
      "cell_type": "code",
      "source": [
        "output= model(**tokens)"
      ],
      "metadata": {
        "id": "Tmiy0w2C9gpd"
      },
      "execution_count": 28,
      "outputs": []
    },
    {
      "cell_type": "code",
      "source": [
        "output.last_hidden_state"
      ],
      "metadata": {
        "colab": {
          "base_uri": "https://localhost:8080/"
        },
        "id": "nreqfm8G90Cg",
        "outputId": "e170a16c-b7cb-4f20-a878-eeffe61f530c"
      },
      "execution_count": 30,
      "outputs": [
        {
          "output_type": "execute_result",
          "data": {
            "text/plain": [
              "tensor([[[ 4.4496e-01,  4.8276e-01,  2.7797e-01,  ..., -5.4032e-02,\n",
              "           3.9393e-01, -9.4770e-02],\n",
              "         [ 2.4943e-01, -4.4093e-01,  8.1772e-01,  ..., -3.1917e-01,\n",
              "           2.2992e-01, -4.1172e-02],\n",
              "         [ 1.3668e-01,  2.2518e-01,  1.4502e-01,  ..., -4.6914e-02,\n",
              "           2.8224e-01,  7.5566e-02],\n",
              "         [ 1.1789e+00,  1.6738e-01, -1.8187e-01,  ...,  2.4671e-01,\n",
              "           1.0441e+00, -6.1965e-03]],\n",
              "\n",
              "        [[ 3.6436e-01,  3.2464e-02,  2.0258e-01,  ...,  6.0111e-02,\n",
              "           3.2451e-01, -2.0996e-02],\n",
              "         [ 7.1866e-01, -4.8725e-01,  5.1740e-01,  ..., -4.4012e-01,\n",
              "           1.4553e-01, -3.7545e-02],\n",
              "         [ 3.3223e-01, -2.3271e-01,  9.4876e-02,  ..., -2.5268e-01,\n",
              "           3.2172e-01,  8.1094e-04],\n",
              "         [ 1.2523e+00,  3.5754e-01, -5.1321e-02,  ..., -3.7840e-01,\n",
              "           1.0526e+00, -5.6255e-01]],\n",
              "\n",
              "        [[ 2.4042e-01,  1.4718e-01,  1.2110e-01,  ...,  7.6062e-02,\n",
              "           3.3564e-01,  2.8262e-01],\n",
              "         [ 6.5701e-01, -3.2787e-01,  2.4968e-01,  ..., -2.5920e-01,\n",
              "           2.0175e-01,  3.3275e-01],\n",
              "         [ 2.0160e-01,  1.5783e-01,  9.8973e-03,  ..., -3.8850e-01,\n",
              "           4.1307e-01,  3.9732e-01],\n",
              "         [ 1.0175e+00,  6.4387e-01, -7.8147e-01,  ..., -4.2109e-01,\n",
              "           1.0925e+00, -4.8456e-02]]], grad_fn=<NativeLayerNormBackward0>)"
            ]
          },
          "metadata": {},
          "execution_count": 30
        }
      ]
    },
    {
      "cell_type": "markdown",
      "source": [
        "## Tokenizer"
      ],
      "metadata": {
        "id": "QNIOoPz0EucG"
      }
    },
    {
      "cell_type": "markdown",
      "source": [
        "![image.png](data:image/png;base64,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)"
      ],
      "metadata": {
        "id": "SuHx-AQWFG2I"
      }
    },
    {
      "cell_type": "code",
      "source": [
        "from transformers import AutoTokenizer\n",
        "\n",
        "sequence = \"Using a Transformer network is simple\"\n",
        "tokenizer= AutoTokenizer.from_pretrained(\"bert-base-cased\")\n",
        "\n",
        "tokens= tokenizer.tokenize(sequence)\n",
        "print(tokens)"
      ],
      "metadata": {
        "colab": {
          "base_uri": "https://localhost:8080/"
        },
        "id": "F98cFCVw94xk",
        "outputId": "56a21b52-e1f0-4e8c-c87a-d13508c6ea7b"
      },
      "execution_count": 38,
      "outputs": [
        {
          "output_type": "stream",
          "name": "stdout",
          "text": [
            "['Using', 'a', 'Trans', '##former', 'network', 'is', 'simple']\n"
          ]
        }
      ]
    },
    {
      "cell_type": "code",
      "source": [
        "ids= tokenizer.convert_tokens_to_ids(tokens)\n",
        "print(ids)"
      ],
      "metadata": {
        "colab": {
          "base_uri": "https://localhost:8080/"
        },
        "id": "08rCnHudFo2q",
        "outputId": "6c20c6e4-790c-49d0-d13d-c5a745aebfc0"
      },
      "execution_count": 39,
      "outputs": [
        {
          "output_type": "stream",
          "name": "stdout",
          "text": [
            "[7993, 170, 13809, 23763, 2443, 1110, 3014]\n"
          ]
        }
      ]
    },
    {
      "cell_type": "markdown",
      "source": [
        "## Decoder"
      ],
      "metadata": {
        "id": "LPPk4paIGL5a"
      }
    },
    {
      "cell_type": "code",
      "source": [
        "decoded= tokenizer.decode(ids)\n",
        "print(decoded)"
      ],
      "metadata": {
        "colab": {
          "base_uri": "https://localhost:8080/"
        },
        "id": "zzRJ9t85F1tk",
        "outputId": "85d90179-eb79-44f7-c40a-f1b4f498b572"
      },
      "execution_count": 40,
      "outputs": [
        {
          "output_type": "stream",
          "name": "stdout",
          "text": [
            "Using a Transformer network is simple\n"
          ]
        }
      ]
    },
    {
      "cell_type": "markdown",
      "source": [
        "## Handling multiple sequences"
      ],
      "metadata": {
        "id": "lrZxYn6zKLE4"
      }
    },
    {
      "cell_type": "code",
      "source": [
        "import torch\n",
        "from transformers import AutoTokenizer, AutoModelForSequenceClassification\n",
        "\n",
        "checkpoint = \"distilbert-base-uncased-finetuned-sst-2-english\"\n",
        "tokenizer= AutoTokenizer.from_pretrained(checkpoint)\n",
        "model= AutoModelForSequenceClassification.from_pretrained(checkpoint)\n",
        "\n",
        "\n",
        "input_sentence= [\"I am a great guy with some anger problems\",\n",
        "                  \"i am a healthy person with strict diet\"]\n",
        "\n",
        "tokens= tokenizer(input_sentence, padding=True, truncation=True, return_tensors=\"pt\")\n",
        "print(tokens)"
      ],
      "metadata": {
        "colab": {
          "base_uri": "https://localhost:8080/"
        },
        "id": "ga9Je7QBGWF4",
        "outputId": "ed76b78e-ec45-4020-c064-84d56aa9d032"
      },
      "execution_count": 41,
      "outputs": [
        {
          "output_type": "stream",
          "name": "stdout",
          "text": [
            "{'input_ids': tensor([[ 101, 1045, 2572, 1037, 2307, 3124, 2007, 2070, 4963, 3471,  102],\n",
            "        [ 101, 1045, 2572, 1037, 7965, 2711, 2007, 9384, 8738,  102,    0]]), 'attention_mask': tensor([[1, 1, 1, 1, 1, 1, 1, 1, 1, 1, 1],\n",
            "        [1, 1, 1, 1, 1, 1, 1, 1, 1, 1, 0]])}\n"
          ]
        }
      ]
    },
    {
      "cell_type": "code",
      "source": [
        "output=model(**tokens)\n",
        "print(output.logits)"
      ],
      "metadata": {
        "id": "tkk0BcX3K5_c",
        "outputId": "084d0605-7ee7-4623-a54b-d2f97ca8afe0",
        "colab": {
          "base_uri": "https://localhost:8080/"
        }
      },
      "execution_count": 42,
      "outputs": [
        {
          "output_type": "stream",
          "name": "stdout",
          "text": [
            "tensor([[-3.3904,  3.6138],\n",
            "        [-3.4804,  3.6353]], grad_fn=<AddmmBackward0>)\n"
          ]
        }
      ]
    },
    {
      "cell_type": "markdown",
      "source": [
        "Testing with a single input"
      ],
      "metadata": {
        "id": "oCXJ5o7nLMIL"
      }
    },
    {
      "cell_type": "code",
      "source": [
        "input=\"i am a healthy person with strict diet\"\n",
        "\n",
        "tokens= tokenizer(input, padding=True, truncation=True, return_tensors=\"pt\")\n",
        "output=model(**tokens)\n",
        "\n",
        "print(output.logits)"
      ],
      "metadata": {
        "id": "9XqLBrybLHMF",
        "outputId": "2fb9690f-eb22-41d3-e506-68fc2a79ddbc",
        "colab": {
          "base_uri": "https://localhost:8080/"
        }
      },
      "execution_count": 43,
      "outputs": [
        {
          "output_type": "stream",
          "name": "stdout",
          "text": [
            "tensor([[-3.4804,  3.6353]], grad_fn=<AddmmBackward0>)\n"
          ]
        }
      ]
    },
    {
      "cell_type": "code",
      "source": [],
      "metadata": {
        "id": "7whTMj8cLY3C"
      },
      "execution_count": null,
      "outputs": []
    }
  ]
}